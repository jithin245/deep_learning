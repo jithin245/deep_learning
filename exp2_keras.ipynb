{
  "cells": [
    {
      "cell_type": "code",
      "execution_count": 1,
      "metadata": {
        "id": "gJzX-nhsjn5N"
      },
      "outputs": [],
      "source": [
        "# tensor\n",
        "import tensorflow as tf\n",
        "import numpy as np"
      ]
    },
    {
      "cell_type": "code",
      "execution_count": 2,
      "metadata": {
        "colab": {
          "base_uri": "https://localhost:8080/"
        },
        "id": "tl14sMBKj4sM",
        "outputId": "b3faabb3-93df-4ffb-bdeb-b2047eeffe4b"
      },
      "outputs": [
        {
          "name": "stdout",
          "output_type": "stream",
          "text": [
            "tf.Tensor([3.  4.  6.  7.  8.  0.9], shape=(6,), dtype=float32)\n"
          ]
        },
        {
          "name": "stderr",
          "output_type": "stream",
          "text": [
            "2024-05-04 10:51:22.703900: I metal_plugin/src/device/metal_device.cc:1154] Metal device set to: Apple M2\n",
            "2024-05-04 10:51:22.703920: I metal_plugin/src/device/metal_device.cc:296] systemMemory: 8.00 GB\n",
            "2024-05-04 10:51:22.703927: I metal_plugin/src/device/metal_device.cc:313] maxCacheSize: 2.67 GB\n",
            "2024-05-04 10:51:22.703945: I tensorflow/core/common_runtime/pluggable_device/pluggable_device_factory.cc:305] Could not identify NUMA node of platform GPU ID 0, defaulting to 0. Your kernel may not have been built with NUMA support.\n",
            "2024-05-04 10:51:22.703959: I tensorflow/core/common_runtime/pluggable_device/pluggable_device_factory.cc:271] Created TensorFlow device (/job:localhost/replica:0/task:0/device:GPU:0 with 0 MB memory) -> physical PluggableDevice (device: 0, name: METAL, pci bus id: <undefined>)\n"
          ]
        }
      ],
      "source": [
        "# one dim tensor\n",
        "tensor1 = tf.constant([3, 4.0, 6, 7, 8, .9])\n",
        "print(tensor1)"
      ]
    },
    {
      "cell_type": "code",
      "execution_count": 3,
      "metadata": {
        "colab": {
          "base_uri": "https://localhost:8080/"
        },
        "id": "dU5oWZYKkNBD",
        "outputId": "b109436b-8a54-49da-fc53-23170a376aaa"
      },
      "outputs": [
        {
          "name": "stdout",
          "output_type": "stream",
          "text": [
            "tf.Tensor(\n",
            "[[0 1 2]\n",
            " [2 3 4]\n",
            " [6 7 8]], shape=(3, 3), dtype=int32)\n"
          ]
        }
      ],
      "source": [
        "tensor2 = tf.constant([[0, 1, 2], [2, 3, 4], [6, 7, 8]])\n",
        "print(tensor2)"
      ]
    },
    {
      "cell_type": "markdown",
      "metadata": {
        "id": "tLhkYIEHlyx4"
      },
      "source": [
        "# To create ANN to predict handwritten digit classification"
      ]
    },
    {
      "cell_type": "code",
      "execution_count": 4,
      "metadata": {
        "colab": {
          "base_uri": "https://localhost:8080/"
        },
        "id": "_I61Th41kqEW",
        "outputId": "81eeb861-0a8f-4e9c-8e7b-1ffd6af77723"
      },
      "outputs": [
        {
          "name": "stdout",
          "output_type": "stream",
          "text": [
            "data loaded\n"
          ]
        }
      ],
      "source": [
        "# load the dataset\n",
        "from tensorflow.keras.datasets import mnist\n",
        "print('data loaded')"
      ]
    },
    {
      "cell_type": "code",
      "execution_count": 5,
      "metadata": {
        "id": "8GP8I2zxmJnS"
      },
      "outputs": [],
      "source": [
        "# create train set & test set\n",
        "(X_train, y_train), (X_test, y_test) = mnist.load_data()"
      ]
    },
    {
      "cell_type": "code",
      "execution_count": 6,
      "metadata": {
        "colab": {
          "base_uri": "https://localhost:8080/"
        },
        "id": "EuyQaZdImekP",
        "outputId": "2921ec11-595e-4f77-aa26-9c762a1ccb40"
      },
      "outputs": [
        {
          "data": {
            "text/plain": [
              "(60000, 28, 28)"
            ]
          },
          "execution_count": 6,
          "metadata": {},
          "output_type": "execute_result"
        }
      ],
      "source": [
        "X_train.shape # number of image, height of image, width of image"
      ]
    },
    {
      "cell_type": "code",
      "execution_count": 7,
      "metadata": {
        "colab": {
          "base_uri": "https://localhost:8080/"
        },
        "id": "66UlQconmk9D",
        "outputId": "74ad027f-7db5-464c-bf35-a876a2d46886"
      },
      "outputs": [
        {
          "data": {
            "text/plain": [
              "(10000, 28, 28)"
            ]
          },
          "execution_count": 7,
          "metadata": {},
          "output_type": "execute_result"
        }
      ],
      "source": [
        "X_test.shape"
      ]
    },
    {
      "cell_type": "code",
      "execution_count": 8,
      "metadata": {
        "colab": {
          "base_uri": "https://localhost:8080/"
        },
        "id": "HxDJpQZvmysL",
        "outputId": "891b26a0-0b15-4a82-a472-3d054f376f93"
      },
      "outputs": [
        {
          "data": {
            "text/plain": [
              "(10000,)"
            ]
          },
          "execution_count": 8,
          "metadata": {},
          "output_type": "execute_result"
        }
      ],
      "source": [
        "y_test.shape"
      ]
    },
    {
      "cell_type": "code",
      "execution_count": 9,
      "metadata": {
        "colab": {
          "base_uri": "https://localhost:8080/",
          "height": 68
        },
        "id": "MwswULs1nBQ7",
        "outputId": "cb32fa68-08f5-4a06-cab2-81085833def1"
      },
      "outputs": [
        {
          "data": {
            "text/plain": [
              "array([[  0,   0,   0,   0,   0,   0,   0,   0,   0,   0,   0,   0,   0,\n",
              "          0,   0,   0,   0,   0,   0,   0,   0,   0,   0,   0,   0,   0,\n",
              "          0,   0],\n",
              "       [  0,   0,   0,   0,   0,   0,   0,   0,   0,   0,   0,   0,   0,\n",
              "          0,   0,   0,   0,   0,   0,   0,   0,   0,   0,   0,   0,   0,\n",
              "          0,   0],\n",
              "       [  0,   0,   0,   0,   0,   0,   0,   0,   0,   0,   0,   0,   0,\n",
              "          0,   0,   0,   0,   0,   0,   0,   0,   0,   0,   0,   0,   0,\n",
              "          0,   0],\n",
              "       [  0,   0,   0,   0,   0,   0,   0,   0,   0,   0,   0,   0,   0,\n",
              "          0,   0,   0,   0,   0,   0,   0,   0,   0,   0,   0,   0,   0,\n",
              "          0,   0],\n",
              "       [  0,   0,   0,   0,   0,   0,   0,   0,   0,   0,   0,   0,   0,\n",
              "          0,   0,   0,   0,   0,   0,   0,   0,   0,   0,   0,   0,   0,\n",
              "          0,   0],\n",
              "       [  0,   0,   0,   0,   0,   0,   0,   0,   0,   0,   0,   0,   3,\n",
              "         18,  18,  18, 126, 136, 175,  26, 166, 255, 247, 127,   0,   0,\n",
              "          0,   0],\n",
              "       [  0,   0,   0,   0,   0,   0,   0,   0,  30,  36,  94, 154, 170,\n",
              "        253, 253, 253, 253, 253, 225, 172, 253, 242, 195,  64,   0,   0,\n",
              "          0,   0],\n",
              "       [  0,   0,   0,   0,   0,   0,   0,  49, 238, 253, 253, 253, 253,\n",
              "        253, 253, 253, 253, 251,  93,  82,  82,  56,  39,   0,   0,   0,\n",
              "          0,   0],\n",
              "       [  0,   0,   0,   0,   0,   0,   0,  18, 219, 253, 253, 253, 253,\n",
              "        253, 198, 182, 247, 241,   0,   0,   0,   0,   0,   0,   0,   0,\n",
              "          0,   0],\n",
              "       [  0,   0,   0,   0,   0,   0,   0,   0,  80, 156, 107, 253, 253,\n",
              "        205,  11,   0,  43, 154,   0,   0,   0,   0,   0,   0,   0,   0,\n",
              "          0,   0],\n",
              "       [  0,   0,   0,   0,   0,   0,   0,   0,   0,  14,   1, 154, 253,\n",
              "         90,   0,   0,   0,   0,   0,   0,   0,   0,   0,   0,   0,   0,\n",
              "          0,   0],\n",
              "       [  0,   0,   0,   0,   0,   0,   0,   0,   0,   0,   0, 139, 253,\n",
              "        190,   2,   0,   0,   0,   0,   0,   0,   0,   0,   0,   0,   0,\n",
              "          0,   0],\n",
              "       [  0,   0,   0,   0,   0,   0,   0,   0,   0,   0,   0,  11, 190,\n",
              "        253,  70,   0,   0,   0,   0,   0,   0,   0,   0,   0,   0,   0,\n",
              "          0,   0],\n",
              "       [  0,   0,   0,   0,   0,   0,   0,   0,   0,   0,   0,   0,  35,\n",
              "        241, 225, 160, 108,   1,   0,   0,   0,   0,   0,   0,   0,   0,\n",
              "          0,   0],\n",
              "       [  0,   0,   0,   0,   0,   0,   0,   0,   0,   0,   0,   0,   0,\n",
              "         81, 240, 253, 253, 119,  25,   0,   0,   0,   0,   0,   0,   0,\n",
              "          0,   0],\n",
              "       [  0,   0,   0,   0,   0,   0,   0,   0,   0,   0,   0,   0,   0,\n",
              "          0,  45, 186, 253, 253, 150,  27,   0,   0,   0,   0,   0,   0,\n",
              "          0,   0],\n",
              "       [  0,   0,   0,   0,   0,   0,   0,   0,   0,   0,   0,   0,   0,\n",
              "          0,   0,  16,  93, 252, 253, 187,   0,   0,   0,   0,   0,   0,\n",
              "          0,   0],\n",
              "       [  0,   0,   0,   0,   0,   0,   0,   0,   0,   0,   0,   0,   0,\n",
              "          0,   0,   0,   0, 249, 253, 249,  64,   0,   0,   0,   0,   0,\n",
              "          0,   0],\n",
              "       [  0,   0,   0,   0,   0,   0,   0,   0,   0,   0,   0,   0,   0,\n",
              "          0,  46, 130, 183, 253, 253, 207,   2,   0,   0,   0,   0,   0,\n",
              "          0,   0],\n",
              "       [  0,   0,   0,   0,   0,   0,   0,   0,   0,   0,   0,   0,  39,\n",
              "        148, 229, 253, 253, 253, 250, 182,   0,   0,   0,   0,   0,   0,\n",
              "          0,   0],\n",
              "       [  0,   0,   0,   0,   0,   0,   0,   0,   0,   0,  24, 114, 221,\n",
              "        253, 253, 253, 253, 201,  78,   0,   0,   0,   0,   0,   0,   0,\n",
              "          0,   0],\n",
              "       [  0,   0,   0,   0,   0,   0,   0,   0,  23,  66, 213, 253, 253,\n",
              "        253, 253, 198,  81,   2,   0,   0,   0,   0,   0,   0,   0,   0,\n",
              "          0,   0],\n",
              "       [  0,   0,   0,   0,   0,   0,  18, 171, 219, 253, 253, 253, 253,\n",
              "        195,  80,   9,   0,   0,   0,   0,   0,   0,   0,   0,   0,   0,\n",
              "          0,   0],\n",
              "       [  0,   0,   0,   0,  55, 172, 226, 253, 253, 253, 253, 244, 133,\n",
              "         11,   0,   0,   0,   0,   0,   0,   0,   0,   0,   0,   0,   0,\n",
              "          0,   0],\n",
              "       [  0,   0,   0,   0, 136, 253, 253, 253, 212, 135, 132,  16,   0,\n",
              "          0,   0,   0,   0,   0,   0,   0,   0,   0,   0,   0,   0,   0,\n",
              "          0,   0],\n",
              "       [  0,   0,   0,   0,   0,   0,   0,   0,   0,   0,   0,   0,   0,\n",
              "          0,   0,   0,   0,   0,   0,   0,   0,   0,   0,   0,   0,   0,\n",
              "          0,   0],\n",
              "       [  0,   0,   0,   0,   0,   0,   0,   0,   0,   0,   0,   0,   0,\n",
              "          0,   0,   0,   0,   0,   0,   0,   0,   0,   0,   0,   0,   0,\n",
              "          0,   0],\n",
              "       [  0,   0,   0,   0,   0,   0,   0,   0,   0,   0,   0,   0,   0,\n",
              "          0,   0,   0,   0,   0,   0,   0,   0,   0,   0,   0,   0,   0,\n",
              "          0,   0]], dtype=uint8)"
            ]
          },
          "execution_count": 9,
          "metadata": {},
          "output_type": "execute_result"
        }
      ],
      "source": [
        "X_train[0]"
      ]
    },
    {
      "cell_type": "code",
      "execution_count": 10,
      "metadata": {
        "colab": {
          "base_uri": "https://localhost:8080/",
          "height": 430
        },
        "id": "XrdlTLKOnkNf",
        "outputId": "19a51368-be0e-4601-fae5-e9f8535d65d2"
      },
      "outputs": [
        {
          "data": {
            "image/png": "[encoded data removed]",
            "text/plain": [
              "<Figure size 640x480 with 1 Axes>"
            ]
          },
          "metadata": {},
          "output_type": "display_data"
        }
      ],
      "source": [
        "import matplotlib.pyplot as plt\n",
        "\n",
        "plt.imshow(X_train[0], cmap='gray')\n",
        "plt.show()"
      ]
    },
    {
      "cell_type": "code",
      "execution_count": 11,
      "metadata": {
        "colab": {
          "base_uri": "https://localhost:8080/",
          "height": 430
        },
        "id": "cHSlKzcZnyx5",
        "outputId": "6a277668-66dc-40f6-db68-0781789ccd4a"
      },
      "outputs": [
        {
          "data": {
            "image/png": "[encoded data removed]",
            "text/plain": [
              "<Figure size 640x480 with 1 Axes>"
            ]
          },
          "metadata": {},
          "output_type": "display_data"
        }
      ],
      "source": [
        "plt.imshow(X_train[1], cmap='gray')\n",
        "plt.show()"
      ]
    },
    {
      "cell_type": "code",
      "execution_count": 12,
      "metadata": {
        "id": "SCK5ToCmoRlu"
      },
      "outputs": [],
      "source": [
        "# preprocessing\n",
        "# reshape the train & test data to one dim array becoz ANN require one dimension\n",
        "# 28 * 28 --- 784\n",
        "\n",
        "X_train = X_train.reshape(60000, 784)\n",
        "X_test = X_test.reshape(10000, 784)"
      ]
    },
    {
      "cell_type": "code",
      "execution_count": 13,
      "metadata": {
        "colab": {
          "base_uri": "https://localhost:8080/"
        },
        "id": "CZmFExgTpCCY",
        "outputId": "5df03ea9-9155-4813-ec57-18908038d26e"
      },
      "outputs": [
        {
          "data": {
            "text/plain": [
              "(60000, 784)"
            ]
          },
          "execution_count": 13,
          "metadata": {},
          "output_type": "execute_result"
        }
      ],
      "source": [
        "X_train.shape"
      ]
    },
    {
      "cell_type": "code",
      "execution_count": 14,
      "metadata": {
        "id": "Fa4aPaTepEB8"
      },
      "outputs": [],
      "source": [
        "# normalize the pixels from 0 to 1, right now pixels are from 0 to 255\n",
        "X_train = X_train/255.\n",
        "X_test = X_test/255."
      ]
    },
    {
      "cell_type": "code",
      "execution_count": 15,
      "metadata": {
        "colab": {
          "base_uri": "https://localhost:8080/"
        },
        "id": "4I6M3CI0pKXE",
        "outputId": "eb85a70c-46f8-4a9f-d504-249465547939"
      },
      "outputs": [
        {
          "data": {
            "text/plain": [
              "array([5, 0, 4, 1, 9, 2, 1, 3, 1, 4], dtype=uint8)"
            ]
          },
          "execution_count": 15,
          "metadata": {},
          "output_type": "execute_result"
        }
      ],
      "source": [
        "y_train[:10]"
      ]
    },
    {
      "cell_type": "code",
      "execution_count": 16,
      "metadata": {
        "id": "Fc7nmcTcpvtK"
      },
      "outputs": [],
      "source": [
        "# convert class vectors into one hot encoding\n",
        "from tensorflow.keras.utils import to_categorical\n",
        "\n",
        "num_classes = 10\n",
        "y_train = to_categorical(y_train, num_classes)\n",
        "y_test = to_categorical(y_test, num_classes)"
      ]
    },
    {
      "cell_type": "code",
      "execution_count": 17,
      "metadata": {
        "colab": {
          "base_uri": "https://localhost:8080/"
        },
        "id": "8t6uagfXqRKr",
        "outputId": "4880b00e-1263-4ce2-caf8-364b15d402df"
      },
      "outputs": [
        {
          "data": {
            "text/plain": [
              "array([[0., 0., 0., 0., 0., 0., 0., 1., 0., 0.],\n",
              "       [0., 0., 1., 0., 0., 0., 0., 0., 0., 0.],\n",
              "       [0., 1., 0., 0., 0., 0., 0., 0., 0., 0.],\n",
              "       [1., 0., 0., 0., 0., 0., 0., 0., 0., 0.],\n",
              "       [0., 0., 0., 0., 1., 0., 0., 0., 0., 0.],\n",
              "       [0., 1., 0., 0., 0., 0., 0., 0., 0., 0.],\n",
              "       [0., 0., 0., 0., 1., 0., 0., 0., 0., 0.],\n",
              "       [0., 0., 0., 0., 0., 0., 0., 0., 0., 1.],\n",
              "       [0., 0., 0., 0., 0., 1., 0., 0., 0., 0.],\n",
              "       [0., 0., 0., 0., 0., 0., 0., 0., 0., 1.]])"
            ]
          },
          "execution_count": 17,
          "metadata": {},
          "output_type": "execute_result"
        }
      ],
      "source": [
        "y_test[:10]"
      ]
    },
    {
      "cell_type": "markdown",
      "metadata": {
        "id": "rYE1m3dWrIdk"
      },
      "source": [
        "1. create the architecture\n",
        "2. compile the model\n",
        "3. fit the model\n",
        "4. evaluation & predict"
      ]
    },
    {
      "cell_type": "code",
      "execution_count": 18,
      "metadata": {
        "colab": {
          "base_uri": "https://localhost:8080/"
        },
        "id": "VqxSuwDKqUP9",
        "outputId": "91e8a42d-70ff-450d-e4fd-2d658269a1c2"
      },
      "outputs": [
        {
          "name": "stdout",
          "output_type": "stream",
          "text": [
            "Imported\n"
          ]
        }
      ],
      "source": [
        "# import the library\n",
        "from tensorflow import keras\n",
        "from tensorflow.keras.models import Sequential\n",
        "from tensorflow.keras.layers import Dense\n",
        "print('Imported')"
      ]
    },
    {
      "cell_type": "markdown",
      "metadata": {
        "id": "q_bNMkm3yW8u"
      },
      "source": [
        "#Create Architecture\n",
        "1. 3 hidden layers\n",
        "2. Nodes in each hidden layers 100, 64, 32\n",
        "3. Activation function - Retified Linear Unit Hidden Layer (Relu hidden layer)\n",
        "4. output layer - Softmax"
      ]
    },
    {
      "cell_type": "code",
      "execution_count": 19,
      "metadata": {
        "id": "4BMLMBZeyY40"
      },
      "outputs": [],
      "source": [
        "model = Sequential()\n",
        "\n",
        "model.add(keras.Input(shape=(784,)))\n",
        "\n",
        "# First Hidden Layer\n",
        "model.add(Dense(100, activation='relu'))\n",
        "\n",
        "# Second Hidden Layer\n",
        "model.add(Dense(64, activation='relu'))\n",
        "\n",
        "# Third Hidden Layer\n",
        "model.add(Dense(32, activation='relu'))\n",
        "\n",
        "#output layer\n",
        "model.add(Dense(10, activation='softmax'))"
      ]
    },
    {
      "cell_type": "code",
      "execution_count": 20,
      "metadata": {
        "colab": {
          "base_uri": "https://localhost:8080/"
        },
        "id": "e87rlPjM3_o8",
        "outputId": "ee87a763-dd12-4214-f37c-ed06e3442ad3"
      },
      "outputs": [
        {
          "data": {
            "text/html": [
              "<pre style=\"white-space:pre;overflow-x:auto;line-height:normal;font-family:Menlo,'DejaVu Sans Mono',consolas,'Courier New',monospace\"><span style=\"font-weight: bold\">Model: \"sequential\"</span>\n",
              "</pre>\n"
            ],
            "text/plain": [
              "\u001b[1mModel: \"sequential\"\u001b[0m\n"
            ]
          },
          "metadata": {},
          "output_type": "display_data"
        },
        {
          "data": {
            "text/html": [
              "<pre style=\"white-space:pre;overflow-x:auto;line-height:normal;font-family:Menlo,'DejaVu Sans Mono',consolas,'Courier New',monospace\">┏━━━━━━━━━━━━━━━━━━━━━━━━━━━━━━━━━┳━━━━━━━━━━━━━━━━━━━━━━━━┳━━━━━━━━━━━━━━━┓\n",
              "┃<span style=\"font-weight: bold\"> Layer (type)                    </span>┃<span style=\"font-weight: bold\"> Output Shape           </span>┃<span style=\"font-weight: bold\">       Param # </span>┃\n",
              "┡━━━━━━━━━━━━━━━━━━━━━━━━━━━━━━━━━╇━━━━━━━━━━━━━━━━━━━━━━━━╇━━━━━━━━━━━━━━━┩\n",
              "│ dense (<span style=\"color: #0087ff; text-decoration-color: #0087ff\">Dense</span>)                   │ (<span style=\"color: #00d7ff; text-decoration-color: #00d7ff\">None</span>, <span style=\"color: #00af00; text-decoration-color: #00af00\">100</span>)            │        <span style=\"color: #00af00; text-decoration-color: #00af00\">78,500</span> │\n",
              "├─────────────────────────────────┼────────────────────────┼───────────────┤\n",
              "│ dense_1 (<span style=\"color: #0087ff; text-decoration-color: #0087ff\">Dense</span>)                 │ (<span style=\"color: #00d7ff; text-decoration-color: #00d7ff\">None</span>, <span style=\"color: #00af00; text-decoration-color: #00af00\">64</span>)             │         <span style=\"color: #00af00; text-decoration-color: #00af00\">6,464</span> │\n",
              "├─────────────────────────────────┼────────────────────────┼───────────────┤\n",
              "│ dense_2 (<span style=\"color: #0087ff; text-decoration-color: #0087ff\">Dense</span>)                 │ (<span style=\"color: #00d7ff; text-decoration-color: #00d7ff\">None</span>, <span style=\"color: #00af00; text-decoration-color: #00af00\">32</span>)             │         <span style=\"color: #00af00; text-decoration-color: #00af00\">2,080</span> │\n",
              "├─────────────────────────────────┼────────────────────────┼───────────────┤\n",
              "│ dense_3 (<span style=\"color: #0087ff; text-decoration-color: #0087ff\">Dense</span>)                 │ (<span style=\"color: #00d7ff; text-decoration-color: #00d7ff\">None</span>, <span style=\"color: #00af00; text-decoration-color: #00af00\">10</span>)             │           <span style=\"color: #00af00; text-decoration-color: #00af00\">330</span> │\n",
              "└─────────────────────────────────┴────────────────────────┴───────────────┘\n",
              "</pre>\n"
            ],
            "text/plain": [
              "┏━━━━━━━━━━━━━━━━━━━━━━━━━━━━━━━━━┳━━━━━━━━━━━━━━━━━━━━━━━━┳━━━━━━━━━━━━━━━┓\n",
              "┃\u001b[1m \u001b[0m\u001b[1mLayer (type)                   \u001b[0m\u001b[1m \u001b[0m┃\u001b[1m \u001b[0m\u001b[1mOutput Shape          \u001b[0m\u001b[1m \u001b[0m┃\u001b[1m \u001b[0m\u001b[1m      Param #\u001b[0m\u001b[1m \u001b[0m┃\n",
              "┡━━━━━━━━━━━━━━━━━━━━━━━━━━━━━━━━━╇━━━━━━━━━━━━━━━━━━━━━━━━╇━━━━━━━━━━━━━━━┩\n",
              "│ dense (\u001b[38;5;33mDense\u001b[0m)                   │ (\u001b[38;5;45mNone\u001b[0m, \u001b[38;5;34m100\u001b[0m)            │        \u001b[38;5;34m78,500\u001b[0m │\n",
              "├─────────────────────────────────┼────────────────────────┼───────────────┤\n",
              "│ dense_1 (\u001b[38;5;33mDense\u001b[0m)                 │ (\u001b[38;5;45mNone\u001b[0m, \u001b[38;5;34m64\u001b[0m)             │         \u001b[38;5;34m6,464\u001b[0m │\n",
              "├─────────────────────────────────┼────────────────────────┼───────────────┤\n",
              "│ dense_2 (\u001b[38;5;33mDense\u001b[0m)                 │ (\u001b[38;5;45mNone\u001b[0m, \u001b[38;5;34m32\u001b[0m)             │         \u001b[38;5;34m2,080\u001b[0m │\n",
              "├─────────────────────────────────┼────────────────────────┼───────────────┤\n",
              "│ dense_3 (\u001b[38;5;33mDense\u001b[0m)                 │ (\u001b[38;5;45mNone\u001b[0m, \u001b[38;5;34m10\u001b[0m)             │           \u001b[38;5;34m330\u001b[0m │\n",
              "└─────────────────────────────────┴────────────────────────┴───────────────┘\n"
            ]
          },
          "metadata": {},
          "output_type": "display_data"
        },
        {
          "data": {
            "text/html": [
              "<pre style=\"white-space:pre;overflow-x:auto;line-height:normal;font-family:Menlo,'DejaVu Sans Mono',consolas,'Courier New',monospace\"><span style=\"font-weight: bold\"> Total params: </span><span style=\"color: #00af00; text-decoration-color: #00af00\">87,374</span> (341.30 KB)\n",
              "</pre>\n"
            ],
            "text/plain": [
              "\u001b[1m Total params: \u001b[0m\u001b[38;5;34m87,374\u001b[0m (341.30 KB)\n"
            ]
          },
          "metadata": {},
          "output_type": "display_data"
        },
        {
          "data": {
            "text/html": [
              "<pre style=\"white-space:pre;overflow-x:auto;line-height:normal;font-family:Menlo,'DejaVu Sans Mono',consolas,'Courier New',monospace\"><span style=\"font-weight: bold\"> Trainable params: </span><span style=\"color: #00af00; text-decoration-color: #00af00\">87,374</span> (341.30 KB)\n",
              "</pre>\n"
            ],
            "text/plain": [
              "\u001b[1m Trainable params: \u001b[0m\u001b[38;5;34m87,374\u001b[0m (341.30 KB)\n"
            ]
          },
          "metadata": {},
          "output_type": "display_data"
        },
        {
          "data": {
            "text/html": [
              "<pre style=\"white-space:pre;overflow-x:auto;line-height:normal;font-family:Menlo,'DejaVu Sans Mono',consolas,'Courier New',monospace\"><span style=\"font-weight: bold\"> Non-trainable params: </span><span style=\"color: #00af00; text-decoration-color: #00af00\">0</span> (0.00 B)\n",
              "</pre>\n"
            ],
            "text/plain": [
              "\u001b[1m Non-trainable params: \u001b[0m\u001b[38;5;34m0\u001b[0m (0.00 B)\n"
            ]
          },
          "metadata": {},
          "output_type": "display_data"
        }
      ],
      "source": [
        "model.summary()"
      ]
    },
    {
      "cell_type": "markdown",
      "metadata": {
        "id": "rUCHoKNN7vmq"
      },
      "source": [
        "# Compile the model\n",
        "1. loss function\n",
        "2. optimizer\n",
        "3. evaluate accuracy"
      ]
    },
    {
      "cell_type": "code",
      "execution_count": 21,
      "metadata": {
        "colab": {
          "base_uri": "https://localhost:8080/"
        },
        "id": "ehYOk3AW4EqG",
        "outputId": "2ded7e90-8003-4df7-f214-8ba9ba51e3c0"
      },
      "outputs": [
        {
          "name": "stdout",
          "output_type": "stream",
          "text": [
            "model is compiled\n"
          ]
        }
      ],
      "source": [
        "# compile the model\n",
        "model.compile(loss='categorical_crossentropy', optimizer='adam', metrics=['accuracy']) # adapative momemtum estimation optimizer\n",
        "print('model is compiled')"
      ]
    },
    {
      "cell_type": "code",
      "execution_count": 22,
      "metadata": {
        "id": "phzoDjhZ9DOv"
      },
      "outputs": [
        {
          "name": "stdout",
          "output_type": "stream",
          "text": [
            "shape (784, 100)\n",
            "layer name dense:\n",
            "[[-0.03735716 -0.07339896  0.00490196 ... -0.00988514  0.02223017\n",
            "   0.05120946]\n",
            " [ 0.07368127  0.0298434  -0.01986906 ...  0.05612139 -0.00366148\n",
            "   0.06580836]\n",
            " [ 0.06650905  0.0289091  -0.07511538 ...  0.05032454 -0.02631655\n",
            "   0.07567824]\n",
            " ...\n",
            " [-0.05270318  0.04318362 -0.02883193 ... -0.03211574  0.0775777\n",
            "   0.05063649]\n",
            " [ 0.02226713  0.05680969  0.05623227 ... -0.00877605 -0.00525071\n",
            "   0.02507169]\n",
            " [ 0.05393624  0.00878873  0.00103504 ...  0.01745706 -0.05289009\n",
            "  -0.06794849]]\n",
            "shape (100,)\n",
            "layer name dense:\n",
            "[0. 0. 0. 0. 0. 0. 0. 0. 0. 0. 0. 0. 0. 0. 0. 0. 0. 0. 0. 0. 0. 0. 0. 0.\n",
            " 0. 0. 0. 0. 0. 0. 0. 0. 0. 0. 0. 0. 0. 0. 0. 0. 0. 0. 0. 0. 0. 0. 0. 0.\n",
            " 0. 0. 0. 0. 0. 0. 0. 0. 0. 0. 0. 0. 0. 0. 0. 0. 0. 0. 0. 0. 0. 0. 0. 0.\n",
            " 0. 0. 0. 0. 0. 0. 0. 0. 0. 0. 0. 0. 0. 0. 0. 0. 0. 0. 0. 0. 0. 0. 0. 0.\n",
            " 0. 0. 0. 0.]\n",
            "shape (100, 64)\n",
            "layer name dense_1:\n",
            "[[ 0.09448831  0.15269814  0.13961197 ...  0.14646147  0.16499414\n",
            "  -0.05886358]\n",
            " [ 0.06643032  0.03119144  0.15260439 ...  0.14834194  0.18212055\n",
            "  -0.02703284]\n",
            " [-0.11724323  0.1831493   0.01402891 ...  0.09769748 -0.13674682\n",
            "  -0.17522654]\n",
            " ...\n",
            " [ 0.18493424  0.15554796  0.03391735 ...  0.04499269  0.03084326\n",
            "   0.03163528]\n",
            " [-0.16553703 -0.05312558  0.11669298 ...  0.15607591  0.00703363\n",
            "  -0.07515249]\n",
            " [ 0.17540266  0.13827    -0.02134469 ... -0.09919195 -0.17904916\n",
            "   0.07084315]]\n",
            "shape (64,)\n",
            "layer name dense_1:\n",
            "[0. 0. 0. 0. 0. 0. 0. 0. 0. 0. 0. 0. 0. 0. 0. 0. 0. 0. 0. 0. 0. 0. 0. 0.\n",
            " 0. 0. 0. 0. 0. 0. 0. 0. 0. 0. 0. 0. 0. 0. 0. 0. 0. 0. 0. 0. 0. 0. 0. 0.\n",
            " 0. 0. 0. 0. 0. 0. 0. 0. 0. 0. 0. 0. 0. 0. 0. 0.]\n",
            "shape (64, 32)\n",
            "layer name dense_2:\n",
            "[[-0.16489643 -0.16368204  0.06138128 ... -0.19154048 -0.04606652\n",
            "  -0.10974842]\n",
            " [-0.21728623 -0.19718885 -0.20559841 ... -0.09788907  0.07664353\n",
            "  -0.12026095]\n",
            " [-0.08305609  0.07708317 -0.06506038 ... -0.17630666  0.16634291\n",
            "   0.23198968]\n",
            " ...\n",
            " [-0.20370883  0.21508873 -0.23774499 ... -0.08049023  0.11963069\n",
            "   0.10755819]\n",
            " [-0.03331184 -0.15232903 -0.24131244 ... -0.2205283   0.21368152\n",
            "   0.1464771 ]\n",
            " [-0.16702074 -0.15918964  0.22426176 ...  0.243429   -0.14423317\n",
            "  -0.21188807]]\n",
            "shape (32,)\n",
            "layer name dense_2:\n",
            "[0. 0. 0. 0. 0. 0. 0. 0. 0. 0. 0. 0. 0. 0. 0. 0. 0. 0. 0. 0. 0. 0. 0. 0.\n",
            " 0. 0. 0. 0. 0. 0. 0. 0.]\n",
            "shape (32, 10)\n",
            "layer name dense_3:\n",
            "[[-0.2808232  -0.19869667 -0.14163296  0.33523533 -0.23040211 -0.22015023\n",
            "  -0.09590799  0.09660304 -0.11743841 -0.14193231]\n",
            " [-0.31063434 -0.16140302  0.08840096  0.13660958  0.36593285  0.27982762\n",
            "   0.3223056   0.00085807 -0.05957124 -0.3195384 ]\n",
            " [-0.18836504  0.06958368  0.19285747  0.0059267  -0.24117026  0.29989633\n",
            "   0.27454707  0.10972342  0.08462456  0.37172285]\n",
            " [ 0.08141345  0.29271778 -0.24361838  0.30053565 -0.13780898 -0.274962\n",
            "  -0.11862159 -0.11943245  0.1889008   0.25632444]\n",
            " [-0.34568545  0.21704444 -0.15519778 -0.09083772 -0.34271684 -0.00949195\n",
            "  -0.24389197  0.14601925  0.07384911 -0.0559445 ]\n",
            " [ 0.23479888 -0.21307226 -0.08078292  0.2164307   0.31334028  0.19526634\n",
            "  -0.16730393  0.23794374  0.11428776  0.20798567]\n",
            " [-0.11626458  0.15918657  0.2864646   0.35918942 -0.15002525 -0.29426998\n",
            "   0.32660052 -0.37476128 -0.02480778  0.17260733]\n",
            " [ 0.27005216  0.3309904   0.13480029 -0.15190719  0.19418088  0.09089199\n",
            "   0.22833046 -0.11410591  0.05452135  0.16480646]\n",
            " [ 0.11439309 -0.24544066  0.32955584 -0.03938088  0.2710019   0.31824026\n",
            "  -0.2855166   0.17413673 -0.3282076   0.25914243]\n",
            " [ 0.2698106   0.14058712 -0.24244176 -0.27051932 -0.0633086  -0.20544097\n",
            "   0.14505365  0.32527092  0.10162207  0.1803222 ]\n",
            " [-0.10216269  0.14079997 -0.11947668  0.34068152  0.25094762  0.25084135\n",
            "  -0.04551196 -0.00774562  0.12421373  0.31654617]\n",
            " [-0.09724733  0.3209631  -0.1170193  -0.2845578  -0.37115717  0.05240151\n",
            "  -0.02879423 -0.02401152  0.03142473 -0.37173373]\n",
            " [-0.35753164  0.14113024 -0.19888799 -0.3204828  -0.26576176 -0.20382343\n",
            "  -0.12005818  0.04342312  0.31345716  0.3582317 ]\n",
            " [ 0.2587836   0.27309856 -0.295606   -0.35322276 -0.11393523  0.20494226\n",
            "  -0.2363143   0.1587098   0.03138447  0.28937617]\n",
            " [-0.22512506  0.1360341   0.31514332 -0.05838895  0.2301943  -0.00324985\n",
            "  -0.11578175  0.09119943  0.34064558 -0.10799214]\n",
            " [ 0.01732868  0.32032314  0.1235936   0.00737175 -0.09647271  0.34121862\n",
            "   0.3754041   0.2128537   0.2697328  -0.04271427]\n",
            " [-0.27058202 -0.04311529  0.19045314 -0.03520465 -0.27241737 -0.1971122\n",
            "   0.05142754 -0.19431147 -0.24737036 -0.08926749]\n",
            " [-0.01453319 -0.03341392 -0.00257391  0.13228503  0.10529917 -0.3656481\n",
            "   0.33424273  0.12065294 -0.1739846  -0.30912   ]\n",
            " [-0.06893295 -0.33637202 -0.1615436  -0.29669303 -0.18214999  0.30889937\n",
            "   0.09192854 -0.05317757  0.29383048 -0.09566358]\n",
            " [-0.18582347  0.00596869  0.0869641   0.16387221  0.19714251 -0.31727898\n",
            "   0.15967688 -0.18385728 -0.044642   -0.0357019 ]\n",
            " [ 0.16845313  0.36592743 -0.00568834 -0.07093781  0.1641483  -0.1270048\n",
            "  -0.29248995 -0.14554803  0.03240895 -0.2866275 ]\n",
            " [-0.20895198 -0.3520883   0.13759747 -0.32960862 -0.16659708  0.36363998\n",
            "   0.14321336  0.2985566  -0.29246202  0.30932626]\n",
            " [ 0.18686381  0.17364976 -0.35235703 -0.05598351 -0.2854401  -0.04727989\n",
            "  -0.00456056  0.35349932 -0.18151595  0.10359341]\n",
            " [ 0.26423165 -0.01407695  0.04861879 -0.13250136  0.14949134  0.34934273\n",
            "   0.0593473  -0.05797577 -0.37440634 -0.09453797]\n",
            " [ 0.2647213  -0.16707936 -0.28519452  0.24595776  0.10222694  0.04431975\n",
            "  -0.27438158 -0.0839304   0.13699886 -0.04732522]\n",
            " [-0.05233175  0.36507246 -0.00187257 -0.3342594  -0.34512568  0.08910295\n",
            "  -0.11953804  0.26978543  0.25485954  0.32287577]\n",
            " [ 0.12118226 -0.32311672 -0.16835204 -0.31049764  0.15612397 -0.33819437\n",
            "   0.26536438  0.30901197 -0.06174999 -0.22264162]\n",
            " [-0.2908789  -0.36051872 -0.11886102 -0.00441638 -0.04477131  0.1238524\n",
            "  -0.18419404  0.31181827  0.22967759 -0.06932801]\n",
            " [ 0.33939144  0.23411319  0.3368791  -0.3189696  -0.0811896   0.28392544\n",
            "   0.15809193 -0.23685029 -0.16661699 -0.18455882]\n",
            " [ 0.20140305  0.13467142 -0.19529605 -0.30867672  0.20206991  0.17425731\n",
            "  -0.372177    0.16751108 -0.2070323  -0.30974656]\n",
            " [-0.16525303  0.0442473   0.120552   -0.17615725 -0.14462112  0.25772503\n",
            "   0.15162739 -0.05481818  0.08843276  0.14843115]\n",
            " [-0.12825719  0.0878208  -0.09664944  0.0525811  -0.20462228 -0.30747092\n",
            "  -0.13277504  0.11409959 -0.04158822 -0.36965364]]\n",
            "shape (10,)\n",
            "layer name dense_3:\n",
            "[0. 0. 0. 0. 0. 0. 0. 0. 0. 0.]\n"
          ]
        }
      ],
      "source": [
        "# initial weights & bias\n",
        "for layer in model.layers:\n",
        "    if hasattr(layer, 'weights'):\n",
        "      weights, biases = layer.get_weights()\n",
        "      print('shape', weights.shape)\n",
        "      print(f'layer name {layer.name}:')\n",
        "      print(weights)\n",
        "      print('shape', biases.shape)\n",
        "      print(f'layer name {layer.name}:')\n",
        "      print(biases)"
      ]
    },
    {
      "cell_type": "code",
      "execution_count": 23,
      "metadata": {
        "id": "zJ-RjjPB89w_"
      },
      "outputs": [],
      "source": [
        "# Evaluate & predict"
      ]
    },
    {
      "cell_type": "code",
      "execution_count": 24,
      "metadata": {
        "colab": {
          "base_uri": "https://localhost:8080/"
        },
        "id": "Lxxyk-jK8mHU",
        "outputId": "1625f5bb-0eb1-448c-cab7-dab64869fe59"
      },
      "outputs": [
        {
          "name": "stdout",
          "output_type": "stream",
          "text": [
            "Epoch 1/10\n"
          ]
        },
        {
          "name": "stderr",
          "output_type": "stream",
          "text": [
            "2024-05-04 10:51:24.778182: I tensorflow/core/grappler/optimizers/custom_graph_optimizer_registry.cc:117] Plugin optimizer for device_type GPU is enabled.\n"
          ]
        },
        {
          "name": "stdout",
          "output_type": "stream",
          "text": [
            "\u001b[1m469/469\u001b[0m \u001b[32m━━━━━━━━━━━━━━━━━━━━\u001b[0m\u001b[37m\u001b[0m \u001b[1m36s\u001b[0m 60ms/step - accuracy: 0.7830 - loss: 0.7313 - val_accuracy: 0.9464 - val_loss: 0.1819\n",
            "Epoch 2/10\n",
            "\u001b[1m469/469\u001b[0m \u001b[32m━━━━━━━━━━━━━━━━━━━━\u001b[0m\u001b[37m\u001b[0m \u001b[1m28s\u001b[0m 60ms/step - accuracy: 0.9523 - loss: 0.1617 - val_accuracy: 0.9633 - val_loss: 0.1277\n",
            "Epoch 3/10\n",
            "\u001b[1m469/469\u001b[0m \u001b[32m━━━━━━━━━━━━━━━━━━━━\u001b[0m\u001b[37m\u001b[0m \u001b[1m27s\u001b[0m 57ms/step - accuracy: 0.9676 - loss: 0.1136 - val_accuracy: 0.9668 - val_loss: 0.1120\n",
            "Epoch 4/10\n",
            "\u001b[1m469/469\u001b[0m \u001b[32m━━━━━━━━━━━━━━━━━━━━\u001b[0m\u001b[37m\u001b[0m \u001b[1m28s\u001b[0m 60ms/step - accuracy: 0.9745 - loss: 0.0878 - val_accuracy: 0.9693 - val_loss: 0.0936\n",
            "Epoch 5/10\n",
            "\u001b[1m469/469\u001b[0m \u001b[32m━━━━━━━━━━━━━━━━━━━━\u001b[0m\u001b[37m\u001b[0m \u001b[1m27s\u001b[0m 58ms/step - accuracy: 0.9808 - loss: 0.0651 - val_accuracy: 0.9717 - val_loss: 0.0916\n",
            "Epoch 6/10\n",
            "\u001b[1m469/469\u001b[0m \u001b[32m━━━━━━━━━━━━━━━━━━━━\u001b[0m\u001b[37m\u001b[0m \u001b[1m29s\u001b[0m 61ms/step - accuracy: 0.9839 - loss: 0.0547 - val_accuracy: 0.9745 - val_loss: 0.0838\n",
            "Epoch 7/10\n",
            "\u001b[1m469/469\u001b[0m \u001b[32m━━━━━━━━━━━━━━━━━━━━\u001b[0m\u001b[37m\u001b[0m \u001b[1m28s\u001b[0m 60ms/step - accuracy: 0.9857 - loss: 0.0473 - val_accuracy: 0.9759 - val_loss: 0.0834\n",
            "Epoch 8/10\n",
            "\u001b[1m469/469\u001b[0m \u001b[32m━━━━━━━━━━━━━━━━━━━━\u001b[0m\u001b[37m\u001b[0m \u001b[1m28s\u001b[0m 60ms/step - accuracy: 0.9890 - loss: 0.0348 - val_accuracy: 0.9741 - val_loss: 0.0865\n",
            "Epoch 9/10\n",
            "\u001b[1m469/469\u001b[0m \u001b[32m━━━━━━━━━━━━━━━━━━━━\u001b[0m\u001b[37m\u001b[0m \u001b[1m26s\u001b[0m 56ms/step - accuracy: 0.9909 - loss: 0.0292 - val_accuracy: 0.9769 - val_loss: 0.0822\n",
            "Epoch 10/10\n",
            "\u001b[1m469/469\u001b[0m \u001b[32m━━━━━━━━━━━━━━━━━━━━\u001b[0m\u001b[37m\u001b[0m \u001b[1m27s\u001b[0m 58ms/step - accuracy: 0.9928 - loss: 0.0235 - val_accuracy: 0.9741 - val_loss: 0.0963\n"
          ]
        }
      ],
      "source": [
        "# training\n",
        "batch_size = 128\n",
        "epochs = 10 # complete cycle where whole training data is passed\n",
        "\n",
        "history = model.fit(X_train, y_train, batch_size=batch_size, epochs = epochs, validation_data=(X_test, y_test))"
      ]
    },
    {
      "cell_type": "code",
      "execution_count": 25,
      "metadata": {
        "colab": {
          "base_uri": "https://localhost:8080/"
        },
        "id": "WFh359LOBkOz",
        "outputId": "d29fb3ba-9c57-443e-9998-13dd8579f35d"
      },
      "outputs": [
        {
          "name": "stdout",
          "output_type": "stream",
          "text": [
            "\u001b[1m313/313\u001b[0m \u001b[32m━━━━━━━━━━━━━━━━━━━━\u001b[0m\u001b[37m\u001b[0m \u001b[1m13s\u001b[0m 40ms/step - accuracy: 0.9688 - loss: 0.1119\n"
          ]
        },
        {
          "data": {
            "text/plain": [
              "[0.09633699059486389, 0.9740999937057495]"
            ]
          },
          "execution_count": 25,
          "metadata": {},
          "output_type": "execute_result"
        }
      ],
      "source": [
        "# evaluate the model\n",
        "model.evaluate(X_test, y_test)"
      ]
    },
    {
      "cell_type": "code",
      "execution_count": 26,
      "metadata": {
        "colab": {
          "base_uri": "https://localhost:8080/"
        },
        "id": "5EKd7F5iC-4X",
        "outputId": "86aa077c-758c-4fb1-8967-75c424421111"
      },
      "outputs": [
        {
          "name": "stdout",
          "output_type": "stream",
          "text": [
            "\u001b[1m1875/1875\u001b[0m \u001b[32m━━━━━━━━━━━━━━━━━━━━\u001b[0m\u001b[37m\u001b[0m \u001b[1m81s\u001b[0m 43ms/step - accuracy: 0.9902 - loss: 0.0297\n"
          ]
        },
        {
          "data": {
            "text/plain": [
              "[0.0298236683011055, 0.9903166890144348]"
            ]
          },
          "execution_count": 26,
          "metadata": {},
          "output_type": "execute_result"
        }
      ],
      "source": [
        "# train accuracy\n",
        "model.evaluate(X_train, y_train)"
      ]
    },
    {
      "cell_type": "code",
      "execution_count": 27,
      "metadata": {
        "colab": {
          "base_uri": "https://localhost:8080/",
          "height": 472
        },
        "id": "VdxcTU6JDKCT",
        "outputId": "6d465e4f-819e-4a8d-e026-acd9e5230ae6"
      },
      "outputs": [
        {
          "data": {
            "image/png": "[encoded data removed]",
            "text/plain": [
              "<Figure size 640x480 with 1 Axes>"
            ]
          },
          "metadata": {},
          "output_type": "display_data"
        }
      ],
      "source": [
        "# plot the graph\n",
        "plt.plot(history.history['accuracy'])\n",
        "plt.plot(history.history['val_accuracy'])\n",
        "plt.title('Model Accuracy')\n",
        "plt.xlabel('Epochs')\n",
        "plt.ylabel('Accuracy')\n",
        "plt.legend(['train', 'test'], loc='best')\n",
        "plt.show()"
      ]
    },
    {
      "cell_type": "code",
      "execution_count": 28,
      "metadata": {
        "colab": {
          "base_uri": "https://localhost:8080/",
          "height": 472
        },
        "id": "XrjzCCSDEG2W",
        "outputId": "309dbf33-be1f-4d8c-ebb0-49fcf09459c1"
      },
      "outputs": [
        {
          "data": {
            "image/png": "[encoded data removed]",
            "text/plain": [
              "<Figure size 640x480 with 1 Axes>"
            ]
          },
          "metadata": {},
          "output_type": "display_data"
        }
      ],
      "source": [
        "# plot the losses\n",
        "plt.plot(history.history['loss'])\n",
        "plt.plot(history.history['val_loss'])\n",
        "plt.title('Model loss')\n",
        "plt.xlabel('Epochs')\n",
        "plt.ylabel('Los')\n",
        "plt.legend(['train', 'test'], loc='best')\n",
        "plt.show()"
      ]
    },
    {
      "cell_type": "code",
      "execution_count": 29,
      "metadata": {
        "colab": {
          "base_uri": "https://localhost:8080/"
        },
        "id": "T_f8bCY2EOHI",
        "outputId": "498072b0-a049-4a04-9928-6efa09ab878f"
      },
      "outputs": [
        {
          "name": "stderr",
          "output_type": "stream",
          "text": [
            "WARNING:absl:You are saving your model as an HDF5 file via `model.save()` or `keras.saving.save_model(model)`. This file format is considered legacy. We recommend using instead the native Keras format, e.g. `model.save('my_model.keras')` or `keras.saving.save_model(model, 'my_model.keras')`. \n"
          ]
        },
        {
          "name": "stdout",
          "output_type": "stream",
          "text": [
            "model saved\n"
          ]
        }
      ],
      "source": [
        "# save the model\n",
        "model.save('handwritten_digit_prediction.h5')\n",
        "print(\"model saved\")"
      ]
    },
    {
      "cell_type": "code",
      "execution_count": 30,
      "metadata": {
        "colab": {
          "base_uri": "https://localhost:8080/"
        },
        "id": "Ph4SpiUoFvW2",
        "outputId": "f73567bc-1f35-4ed6-c7e5-e3e3cf3e7b79"
      },
      "outputs": [
        {
          "name": "stderr",
          "output_type": "stream",
          "text": [
            "WARNING:absl:Compiled the loaded model, but the compiled metrics have yet to be built. `model.compile_metrics` will be empty until you train or evaluate the model.\n"
          ]
        },
        {
          "name": "stdout",
          "output_type": "stream",
          "text": [
            "model loaded\n"
          ]
        }
      ],
      "source": [
        "# load the model\n",
        "from tensorflow.keras.models import load_model\n",
        "\n",
        "loaded_model = load_model('handwritten_digit_prediction.h5')\n",
        "print('model loaded')\n"
      ]
    },
    {
      "cell_type": "code",
      "execution_count": 31,
      "metadata": {
        "colab": {
          "base_uri": "https://localhost:8080/"
        },
        "id": "Wgd16n4arqzC",
        "outputId": "7c26fa35-06a4-471d-c9cc-4547adc74cb9"
      },
      "outputs": [
        {
          "data": {
            "text/html": [
              "<pre style=\"white-space:pre;overflow-x:auto;line-height:normal;font-family:Menlo,'DejaVu Sans Mono',consolas,'Courier New',monospace\"><span style=\"font-weight: bold\">Model: \"sequential\"</span>\n",
              "</pre>\n"
            ],
            "text/plain": [
              "\u001b[1mModel: \"sequential\"\u001b[0m\n"
            ]
          },
          "metadata": {},
          "output_type": "display_data"
        },
        {
          "data": {
            "text/html": [
              "<pre style=\"white-space:pre;overflow-x:auto;line-height:normal;font-family:Menlo,'DejaVu Sans Mono',consolas,'Courier New',monospace\">┏━━━━━━━━━━━━━━━━━━━━━━━━━━━━━━━━━┳━━━━━━━━━━━━━━━━━━━━━━━━┳━━━━━━━━━━━━━━━┓\n",
              "┃<span style=\"font-weight: bold\"> Layer (type)                    </span>┃<span style=\"font-weight: bold\"> Output Shape           </span>┃<span style=\"font-weight: bold\">       Param # </span>┃\n",
              "┡━━━━━━━━━━━━━━━━━━━━━━━━━━━━━━━━━╇━━━━━━━━━━━━━━━━━━━━━━━━╇━━━━━━━━━━━━━━━┩\n",
              "│ dense (<span style=\"color: #0087ff; text-decoration-color: #0087ff\">Dense</span>)                   │ (<span style=\"color: #00d7ff; text-decoration-color: #00d7ff\">None</span>, <span style=\"color: #00af00; text-decoration-color: #00af00\">100</span>)            │        <span style=\"color: #00af00; text-decoration-color: #00af00\">78,500</span> │\n",
              "├─────────────────────────────────┼────────────────────────┼───────────────┤\n",
              "│ dense_1 (<span style=\"color: #0087ff; text-decoration-color: #0087ff\">Dense</span>)                 │ (<span style=\"color: #00d7ff; text-decoration-color: #00d7ff\">None</span>, <span style=\"color: #00af00; text-decoration-color: #00af00\">64</span>)             │         <span style=\"color: #00af00; text-decoration-color: #00af00\">6,464</span> │\n",
              "├─────────────────────────────────┼────────────────────────┼───────────────┤\n",
              "│ dense_2 (<span style=\"color: #0087ff; text-decoration-color: #0087ff\">Dense</span>)                 │ (<span style=\"color: #00d7ff; text-decoration-color: #00d7ff\">None</span>, <span style=\"color: #00af00; text-decoration-color: #00af00\">32</span>)             │         <span style=\"color: #00af00; text-decoration-color: #00af00\">2,080</span> │\n",
              "├─────────────────────────────────┼────────────────────────┼───────────────┤\n",
              "│ dense_3 (<span style=\"color: #0087ff; text-decoration-color: #0087ff\">Dense</span>)                 │ (<span style=\"color: #00d7ff; text-decoration-color: #00d7ff\">None</span>, <span style=\"color: #00af00; text-decoration-color: #00af00\">10</span>)             │           <span style=\"color: #00af00; text-decoration-color: #00af00\">330</span> │\n",
              "└─────────────────────────────────┴────────────────────────┴───────────────┘\n",
              "</pre>\n"
            ],
            "text/plain": [
              "┏━━━━━━━━━━━━━━━━━━━━━━━━━━━━━━━━━┳━━━━━━━━━━━━━━━━━━━━━━━━┳━━━━━━━━━━━━━━━┓\n",
              "┃\u001b[1m \u001b[0m\u001b[1mLayer (type)                   \u001b[0m\u001b[1m \u001b[0m┃\u001b[1m \u001b[0m\u001b[1mOutput Shape          \u001b[0m\u001b[1m \u001b[0m┃\u001b[1m \u001b[0m\u001b[1m      Param #\u001b[0m\u001b[1m \u001b[0m┃\n",
              "┡━━━━━━━━━━━━━━━━━━━━━━━━━━━━━━━━━╇━━━━━━━━━━━━━━━━━━━━━━━━╇━━━━━━━━━━━━━━━┩\n",
              "│ dense (\u001b[38;5;33mDense\u001b[0m)                   │ (\u001b[38;5;45mNone\u001b[0m, \u001b[38;5;34m100\u001b[0m)            │        \u001b[38;5;34m78,500\u001b[0m │\n",
              "├─────────────────────────────────┼────────────────────────┼───────────────┤\n",
              "│ dense_1 (\u001b[38;5;33mDense\u001b[0m)                 │ (\u001b[38;5;45mNone\u001b[0m, \u001b[38;5;34m64\u001b[0m)             │         \u001b[38;5;34m6,464\u001b[0m │\n",
              "├─────────────────────────────────┼────────────────────────┼───────────────┤\n",
              "│ dense_2 (\u001b[38;5;33mDense\u001b[0m)                 │ (\u001b[38;5;45mNone\u001b[0m, \u001b[38;5;34m32\u001b[0m)             │         \u001b[38;5;34m2,080\u001b[0m │\n",
              "├─────────────────────────────────┼────────────────────────┼───────────────┤\n",
              "│ dense_3 (\u001b[38;5;33mDense\u001b[0m)                 │ (\u001b[38;5;45mNone\u001b[0m, \u001b[38;5;34m10\u001b[0m)             │           \u001b[38;5;34m330\u001b[0m │\n",
              "└─────────────────────────────────┴────────────────────────┴───────────────┘\n"
            ]
          },
          "metadata": {},
          "output_type": "display_data"
        },
        {
          "data": {
            "text/html": [
              "<pre style=\"white-space:pre;overflow-x:auto;line-height:normal;font-family:Menlo,'DejaVu Sans Mono',consolas,'Courier New',monospace\"><span style=\"font-weight: bold\"> Total params: </span><span style=\"color: #00af00; text-decoration-color: #00af00\">87,376</span> (341.32 KB)\n",
              "</pre>\n"
            ],
            "text/plain": [
              "\u001b[1m Total params: \u001b[0m\u001b[38;5;34m87,376\u001b[0m (341.32 KB)\n"
            ]
          },
          "metadata": {},
          "output_type": "display_data"
        },
        {
          "data": {
            "text/html": [
              "<pre style=\"white-space:pre;overflow-x:auto;line-height:normal;font-family:Menlo,'DejaVu Sans Mono',consolas,'Courier New',monospace\"><span style=\"font-weight: bold\"> Trainable params: </span><span style=\"color: #00af00; text-decoration-color: #00af00\">87,374</span> (341.30 KB)\n",
              "</pre>\n"
            ],
            "text/plain": [
              "\u001b[1m Trainable params: \u001b[0m\u001b[38;5;34m87,374\u001b[0m (341.30 KB)\n"
            ]
          },
          "metadata": {},
          "output_type": "display_data"
        },
        {
          "data": {
            "text/html": [
              "<pre style=\"white-space:pre;overflow-x:auto;line-height:normal;font-family:Menlo,'DejaVu Sans Mono',consolas,'Courier New',monospace\"><span style=\"font-weight: bold\"> Non-trainable params: </span><span style=\"color: #00af00; text-decoration-color: #00af00\">0</span> (0.00 B)\n",
              "</pre>\n"
            ],
            "text/plain": [
              "\u001b[1m Non-trainable params: \u001b[0m\u001b[38;5;34m0\u001b[0m (0.00 B)\n"
            ]
          },
          "metadata": {},
          "output_type": "display_data"
        },
        {
          "data": {
            "text/html": [
              "<pre style=\"white-space:pre;overflow-x:auto;line-height:normal;font-family:Menlo,'DejaVu Sans Mono',consolas,'Courier New',monospace\"><span style=\"font-weight: bold\"> Optimizer params: </span><span style=\"color: #00af00; text-decoration-color: #00af00\">2</span> (12.00 B)\n",
              "</pre>\n"
            ],
            "text/plain": [
              "\u001b[1m Optimizer params: \u001b[0m\u001b[38;5;34m2\u001b[0m (12.00 B)\n"
            ]
          },
          "metadata": {},
          "output_type": "display_data"
        }
      ],
      "source": [
        "loaded_model.summary()"
      ]
    },
    {
      "cell_type": "code",
      "execution_count": 32,
      "metadata": {
        "id": "bRc-o9lvr3mo"
      },
      "outputs": [],
      "source": [
        "# predictions\n",
        "y_pred = loaded_model(X_test)"
      ]
    },
    {
      "cell_type": "code",
      "execution_count": 33,
      "metadata": {
        "colab": {
          "base_uri": "https://localhost:8080/"
        },
        "id": "m0rzBmcFsl1_",
        "outputId": "72de43e2-3474-4b7d-84eb-4f0d6ef80920"
      },
      "outputs": [
        {
          "data": {
            "text/plain": [
              "<tf.Tensor: shape=(10,), dtype=float32, numpy=\n",
              "array([4.3063901e-07, 1.3335341e-06, 7.6160950e-07, 2.5957819e-05,\n",
              "       3.1733876e-08, 1.3687591e-09, 4.7680246e-13, 9.9996340e-01,\n",
              "       6.1003931e-07, 7.5283087e-06], dtype=float32)>"
            ]
          },
          "execution_count": 33,
          "metadata": {},
          "output_type": "execute_result"
        }
      ],
      "source": [
        "y_pred[0]"
      ]
    },
    {
      "cell_type": "code",
      "execution_count": 34,
      "metadata": {
        "colab": {
          "base_uri": "https://localhost:8080/"
        },
        "id": "8-HV0XjSsms5",
        "outputId": "ad3ff00e-a072-425d-c084-bba16420ea4a"
      },
      "outputs": [
        {
          "data": {
            "text/plain": [
              "7"
            ]
          },
          "execution_count": 34,
          "metadata": {},
          "output_type": "execute_result"
        }
      ],
      "source": [
        "np.argmax(y_pred[0])"
      ]
    },
    {
      "cell_type": "code",
      "execution_count": 35,
      "metadata": {
        "id": "AhCnWoKcszph"
      },
      "outputs": [],
      "source": [
        "# see all outputs\n",
        "y_predict = np.argmax(y_pred, axis=1)"
      ]
    },
    {
      "cell_type": "code",
      "execution_count": 36,
      "metadata": {
        "colab": {
          "base_uri": "https://localhost:8080/"
        },
        "id": "Vm_lx-jbtB61",
        "outputId": "ab9e3feb-29d3-4814-aa00-1a74f35de978"
      },
      "outputs": [
        {
          "data": {
            "text/plain": [
              "array([7, 2, 1, ..., 4, 5, 6])"
            ]
          },
          "execution_count": 36,
          "metadata": {},
          "output_type": "execute_result"
        }
      ],
      "source": [
        "y_predict"
      ]
    },
    {
      "cell_type": "code",
      "execution_count": 37,
      "metadata": {
        "id": "StvJ7hpVtUCc"
      },
      "outputs": [],
      "source": [
        "# create train set & test set\n",
        "(X_train1, y_train1), (X_test1, y_test1) = mnist.load_data()"
      ]
    },
    {
      "cell_type": "code",
      "execution_count": 38,
      "metadata": {},
      "outputs": [
        {
          "data": {
            "text/plain": [
              "array([7, 2, 1, ..., 4, 5, 6], dtype=uint8)"
            ]
          },
          "execution_count": 38,
          "metadata": {},
          "output_type": "execute_result"
        }
      ],
      "source": [
        "y_test1"
      ]
    },
    {
      "cell_type": "code",
      "execution_count": 39,
      "metadata": {
        "colab": {
          "base_uri": "https://localhost:8080/",
          "height": 430
        },
        "id": "w9F9g29stl_H",
        "outputId": "370f9dea-075a-429e-cf71-31d3b36e77ac"
      },
      "outputs": [
        {
          "data": {
            "image/png": "[encoded data removed]",
            "text/plain": [
              "<Figure size 640x480 with 2 Axes>"
            ]
          },
          "metadata": {},
          "output_type": "display_data"
        }
      ],
      "source": [
        "from sklearn.metrics import confusion_matrix\n",
        "cm = confusion_matrix(y_test1, y_predict)\n",
        "\n",
        "import seaborn as sns\n",
        "sns.heatmap(cm, annot=True, fmt='d')\n",
        "plt.show()"
      ]
    },
    {
      "cell_type": "code",
      "execution_count": 40,
      "metadata": {
        "colab": {
          "base_uri": "https://localhost:8080/"
        },
        "id": "NCpnoOq_t-IR",
        "outputId": "b95fec86-c96b-46cb-c4e2-a80c1f5e7b09"
      },
      "outputs": [
        {
          "name": "stdout",
          "output_type": "stream",
          "text": [
            "shape (784, 100)\n",
            "layer name dense:\n",
            "[[-0.03735716 -0.07339896  0.00490196 ... -0.00988514  0.02223017\n",
            "   0.05120946]\n",
            " [ 0.07368127  0.0298434  -0.01986906 ...  0.05612139 -0.00366148\n",
            "   0.06580836]\n",
            " [ 0.06650905  0.0289091  -0.07511538 ...  0.05032454 -0.02631655\n",
            "   0.07567824]\n",
            " ...\n",
            " [-0.05270318  0.04318362 -0.02883193 ... -0.03211574  0.0775777\n",
            "   0.05063649]\n",
            " [ 0.02226713  0.05680969  0.05623227 ... -0.00877605 -0.00525071\n",
            "   0.02507169]\n",
            " [ 0.05393624  0.00878873  0.00103504 ...  0.01745706 -0.05289009\n",
            "  -0.06794849]]\n",
            "shape (100,)\n",
            "layer name dense:\n",
            "[-0.0639763   0.03726357  0.04684483  0.03738687  0.04730544  0.10641588\n",
            " -0.09112192 -0.04520502  0.08188313  0.09129047 -0.03824021 -0.00514882\n",
            "  0.03808446  0.03468144  0.03217233 -0.00445841  0.07085953  0.05305354\n",
            " -0.06398962  0.03509682 -0.04120656 -0.05109663 -0.05046831 -0.02624654\n",
            "  0.14558227  0.13003504  0.0877735   0.04369706  0.06050056  0.17481342\n",
            "  0.06672684  0.08526867 -0.01325885 -0.02714766  0.00485329  0.16719867\n",
            "  0.04275288  0.0397597   0.04480148 -0.0277232  -0.01466908  0.03852993\n",
            "  0.0898214   0.08533802  0.12299842  0.04726189  0.05373936 -0.00112303\n",
            "  0.06381375  0.06392407  0.06708717  0.01449193  0.00082762 -0.02465799\n",
            "  0.01725227 -0.03608504  0.05484847  0.0374475   0.10897356 -0.05320443\n",
            "  0.01617237  0.09449867  0.02011962  0.02697407  0.03394552  0.09041496\n",
            " -0.04179436 -0.01754157  0.08893381  0.03474002  0.08918687  0.00603247\n",
            " -0.04362965 -0.0385172   0.03195722 -0.0956941   0.115061    0.0670616\n",
            "  0.04480266  0.05732972  0.0534162  -0.0525119  -0.02329826  0.0128513\n",
            " -0.0010246   0.07430207  0.12560344 -0.03153987 -0.02542443  0.0836031\n",
            "  0.12911692  0.03052738 -0.09275336  0.02467432 -0.06534176  0.01547474\n",
            "  0.02926022 -0.02796718 -0.01255543  0.02273298]\n",
            "shape (100, 64)\n",
            "layer name dense_1:\n",
            "[[ 0.11319253  0.1702922   0.18550178 ...  0.17385831  0.23183994\n",
            "  -0.04700587]\n",
            " [ 0.08470228  0.08629103  0.21943605 ...  0.13757323  0.24206276\n",
            "  -0.07943066]\n",
            " [-0.06433301  0.3240825   0.05715288 ...  0.11454575 -0.10800557\n",
            "  -0.3473638 ]\n",
            " ...\n",
            " [ 0.07580408  0.1900375   0.15507856 ... -0.02848255  0.11668104\n",
            "   0.11744544]\n",
            " [-0.34491834 -0.03071551  0.17882858 ...  0.1178455   0.03310451\n",
            "  -0.06381018]\n",
            " [ 0.20179205  0.30786636 -0.10347681 ... -0.09677126 -0.28207418\n",
            "  -0.00287886]]\n",
            "shape (64,)\n",
            "layer name dense_1:\n",
            "[ 0.06777325  0.04707339  0.09619863 -0.03724262  0.07034017 -0.02047445\n",
            "  0.01622949  0.01748726  0.06892317 -0.03275901  0.11035326  0.11510009\n",
            "  0.04333938  0.08283951  0.04626453  0.04778774  0.06221148  0.1299384\n",
            "  0.01681576  0.08657446  0.02071948  0.06856111 -0.00910552 -0.03941003\n",
            " -0.014605   -0.03384184  0.05642878  0.04820678 -0.04309763 -0.00014974\n",
            " -0.0186457   0.11574788 -0.01870247 -0.03857318  0.07537211  0.0685962\n",
            "  0.13025542  0.00573484 -0.00273413  0.04293381  0.09848677  0.06403069\n",
            " -0.06541277  0.01701098  0.07409022  0.01711445  0.04098674 -0.05313291\n",
            "  0.10052951 -0.02342365 -0.02442641  0.04613211  0.06017836 -0.02064101\n",
            " -0.01607164  0.00359019 -0.02867484  0.09199009  0.07054371  0.07607406\n",
            "  0.07961593  0.02868953  0.01354964  0.09219733]\n",
            "shape (64, 32)\n",
            "layer name dense_2:\n",
            "[[-0.16489643 -0.05535042  0.05541702 ... -0.23959413 -0.07046402\n",
            "  -0.19809946]\n",
            " [-0.27257383 -0.21220434 -0.21230137 ... -0.110998    0.17867436\n",
            "  -0.05244885]\n",
            " [-0.09211396  0.12473492 -0.07562811 ... -0.14176112  0.17319591\n",
            "   0.2316997 ]\n",
            " ...\n",
            " [-0.22429553  0.37305686 -0.2993904  ... -0.00155412  0.07756177\n",
            "   0.15796469]\n",
            " [-0.05727768 -0.14166068 -0.31355485 ... -0.29143927  0.18811192\n",
            "   0.1768786 ]\n",
            " [-0.17701025 -0.23177081  0.62179995 ...  0.21488407  0.09912726\n",
            "  -0.3098684 ]]\n",
            "shape (32,)\n",
            "layer name dense_2:\n",
            "[-0.00757058  0.1313545   0.03649065  0.03732699  0.04389726  0.05842497\n",
            "  0.02256907  0.02583503  0.06942707 -0.00966541 -0.04196057  0.05144899\n",
            "  0.05898884  0.02217942  0.10027657  0.02620721  0.01806473 -0.03529989\n",
            "  0.1011072   0.07425199  0.06572908 -0.02213022  0.0900213   0.02588115\n",
            "  0.0682251   0.03229003 -0.00263557 -0.02226907  0.01773058  0.00321062\n",
            "  0.0723613  -0.02668953]\n",
            "shape (32, 10)\n",
            "layer name dense_3:\n",
            "[[-2.59160638e-01 -2.07785666e-01 -1.60312995e-01  3.20612848e-01\n",
            "  -2.40354538e-01 -2.54528344e-01 -1.17568418e-01  8.15527588e-02\n",
            "  -1.26139089e-01 -1.55937970e-01]\n",
            " [-7.16747582e-01 -6.75892383e-02 -1.40464991e-01  1.78071395e-01\n",
            "   5.69849253e-01  3.79607797e-01  2.39854038e-01 -1.00856647e-01\n",
            "  -1.27404451e-01 -2.56126791e-01]\n",
            " [-1.26968920e-01 -2.10048646e-01  1.68366387e-01  2.01702580e-01\n",
            "  -7.87108898e-01  4.31901276e-01  1.55645519e-01  4.19753075e-01\n",
            "   1.48632392e-01  1.53610766e-01]\n",
            " [ 5.88129349e-02  2.29231238e-01 -2.81057447e-01  4.17163223e-01\n",
            "  -2.52563924e-01 -2.52067417e-01 -2.46576622e-01 -2.62531936e-01\n",
            "   2.14414388e-01  3.43152136e-01]\n",
            " [-4.81807500e-01  2.21309021e-01 -1.12391472e-01  3.76910418e-02\n",
            "  -7.15029836e-01  1.68033298e-02 -4.53065515e-01  1.75207570e-01\n",
            "   1.08201303e-01 -5.59196621e-02]\n",
            " [ 2.17463404e-01 -3.23473305e-01 -2.13063508e-01  3.38634193e-01\n",
            "   3.21287960e-01  2.57111549e-01 -3.05246681e-01  2.41419941e-01\n",
            "   4.41469997e-02  2.56593138e-01]\n",
            " [-2.90399473e-02  1.86188191e-01  3.72880876e-01  1.23739317e-01\n",
            "  -3.56894970e-01 -3.10255587e-01  1.66158944e-01 -3.16157699e-01\n",
            "  -1.85778588e-01  8.91522467e-02]\n",
            " [ 3.60180855e-01  4.09651756e-01  2.11809706e-02 -2.28532284e-01\n",
            "   2.38214895e-01  7.83776194e-02  2.91530669e-01 -3.42313826e-01\n",
            "   6.60329238e-02  1.95767075e-01]\n",
            " [ 4.40152921e-02 -3.79973263e-01  4.13661182e-01 -1.65168736e-02\n",
            "   3.24230433e-01  2.96856403e-01 -4.52159792e-01  1.93045601e-01\n",
            "  -4.33484346e-01  3.60173911e-01]\n",
            " [ 4.40980375e-01  2.01005593e-01 -1.71832070e-01 -4.35778409e-01\n",
            "  -1.24317497e-01 -3.80705386e-01  2.15096384e-01  3.21322322e-01\n",
            "   2.88099721e-02  1.97474614e-01]\n",
            " [-1.69532329e-01  1.68242916e-01 -6.59872666e-02  3.28431994e-01\n",
            "   1.54695839e-01  2.19944850e-01 -7.00583011e-02 -3.27942595e-02\n",
            "   1.02821171e-01  2.97142744e-01]\n",
            " [-1.60128027e-01  4.33057487e-01 -1.18702158e-01 -3.29842746e-01\n",
            "  -3.20116878e-01 -2.97411811e-02  4.27701185e-03 -1.90096602e-01\n",
            "   1.39560953e-01 -7.33489454e-01]\n",
            " [-6.21188104e-01  1.23010501e-01 -2.12537169e-01 -3.36041480e-01\n",
            "  -1.65734351e-01 -2.99918801e-01 -3.88506651e-01  2.05677878e-02\n",
            "   3.25388074e-01  4.86812502e-01]\n",
            " [ 2.15695724e-01  2.64649838e-01 -4.33430105e-01 -3.59684318e-01\n",
            "  -1.09542236e-01  1.57440975e-01 -5.55439055e-01  2.19167322e-01\n",
            "  -1.02664076e-01  4.22536463e-01]\n",
            " [-2.42668405e-01 -8.67824554e-02  5.06719172e-01 -3.95337604e-02\n",
            "   1.27888933e-01 -9.55872834e-02 -4.00377512e-01  1.77963302e-01\n",
            "   5.21906316e-01 -3.15803587e-01]\n",
            " [-4.22515906e-02  3.72594148e-01 -1.53439417e-02  3.70418727e-02\n",
            "  -2.11075187e-01  3.96817446e-01  5.24052382e-01  2.03969672e-01\n",
            "   3.23088050e-01 -2.37382188e-01]\n",
            " [-2.32065305e-01 -7.78478757e-02  2.67566442e-01  2.71508954e-02\n",
            "  -3.85153770e-01 -1.93406776e-01  3.34617980e-02 -2.83909857e-01\n",
            "  -2.73849517e-01 -1.13021404e-01]\n",
            " [ 8.17649253e-03 -8.01830459e-03  5.14975190e-02  2.39213854e-01\n",
            "   1.17645502e-01 -4.41144615e-01  3.29266697e-01  1.79890677e-01\n",
            "  -3.33088607e-01 -5.37142217e-01]\n",
            " [-6.97614579e-03 -4.93261546e-01 -1.73944652e-01 -2.56481111e-01\n",
            "  -2.73075968e-01  3.75102878e-01  1.43985301e-01 -3.39666933e-01\n",
            "   3.67130697e-01 -7.72589818e-02]\n",
            " [-2.54191250e-01 -1.74235869e-02  1.07280470e-01  2.24159673e-01\n",
            "   2.78985292e-01 -4.30788368e-01  1.08888090e-01 -2.91864038e-01\n",
            "  -3.64162698e-02  3.30344662e-02]\n",
            " [ 3.04027319e-01  2.01766074e-01  6.31408915e-02 -2.93431401e-01\n",
            "   4.09400254e-01 -2.96941549e-01 -4.71426219e-01 -1.65897369e-01\n",
            "   1.01701356e-02 -3.23868692e-01]\n",
            " [-2.96841830e-01 -4.00213540e-01  1.20215841e-01 -2.99472034e-01\n",
            "  -3.36980939e-01  4.02444929e-01  4.00019437e-02  6.90396577e-02\n",
            "  -3.32619101e-01  4.48162675e-01]\n",
            " [-1.06602050e-01  5.47040522e-01 -5.82487941e-01 -1.44753575e-01\n",
            "  -2.41089493e-01 -3.70283350e-02 -1.21740475e-01 -1.99726988e-02\n",
            "  -3.22324216e-01  8.59033763e-02]\n",
            " [ 3.10693324e-01  1.42723113e-01 -6.86756745e-02 -9.15274248e-02\n",
            "  -1.27680510e-01  5.33048868e-01  1.23846970e-01 -8.67346004e-02\n",
            "  -6.72495663e-01 -1.14812940e-01]\n",
            " [ 3.13683480e-01 -2.66848087e-01 -3.09906930e-01  3.51773173e-01\n",
            "   4.07598428e-02  8.63336325e-02 -3.60602587e-01 -2.47050360e-01\n",
            "   1.79078892e-01 -2.83403639e-02]\n",
            " [-4.33489770e-01  4.83869821e-01 -2.44105011e-01 -4.72850412e-01\n",
            "  -4.82850999e-01 -2.59257227e-01 -1.46300837e-01  3.00313175e-01\n",
            "   9.03417170e-02  6.12305880e-01]\n",
            " [ 1.98087633e-01 -4.62264419e-01 -1.62085146e-01 -4.20719594e-01\n",
            "   2.21441448e-01 -5.33877552e-01  3.46545160e-01  3.50550532e-01\n",
            "  -8.65431502e-02 -2.19494894e-01]\n",
            " [-2.80030102e-01 -3.69083196e-01 -1.17715783e-01 -2.50568464e-05\n",
            "  -5.49802296e-02  9.59701017e-02 -1.94171935e-01  3.03165197e-01\n",
            "   2.33014882e-01 -7.77866021e-02]\n",
            " [ 3.85679841e-01  2.88893372e-01  5.19337118e-01 -3.64028752e-01\n",
            "  -2.82381564e-01  2.34872937e-01  6.09057061e-02 -2.09201291e-01\n",
            "  -3.39738965e-01 -3.79281819e-01]\n",
            " [-1.98506460e-01  2.99115449e-01 -2.93817371e-01 -3.82938713e-01\n",
            "   1.78121015e-01  2.11437538e-01 -3.75620037e-01  2.27838501e-01\n",
            "  -3.83450001e-01 -3.64372551e-01]\n",
            " [-2.10070744e-01 -5.44304810e-02  1.91815019e-01 -1.56664580e-01\n",
            "  -2.31960684e-01  2.95382321e-01  1.64078310e-01 -1.77306026e-01\n",
            "   1.46990150e-01  1.78980932e-01]\n",
            " [-1.05557054e-01  7.10359728e-03  4.39963527e-02  1.54158249e-01\n",
            "  -2.00533211e-01 -5.52920043e-01 -3.83448899e-01  1.94974363e-01\n",
            "  -9.44219455e-02 -4.07985270e-01]]\n",
            "shape (10,)\n",
            "layer name dense_3:\n",
            "[-0.07959964 -0.04496948  0.01940314  0.05966213  0.02260972  0.05314921\n",
            " -0.02580032 -0.11699718  0.02062328  0.02949454]\n"
          ]
        }
      ],
      "source": [
        "# initial weights & bias\n",
        "for layer in loaded_model.layers:\n",
        "    if hasattr(layer, 'weights'):\n",
        "      weights, biases = layer.get_weights()\n",
        "      print('shape', weights.shape)\n",
        "      print(f'layer name {layer.name}:')\n",
        "      print(weights)\n",
        "      print('shape', biases.shape)\n",
        "      print(f'layer name {layer.name}:')\n",
        "      print(biases)"
      ]
    },
    {
      "cell_type": "code",
      "execution_count": 41,
      "metadata": {
        "id": "EV0oJ8EPvuaA"
      },
      "outputs": [
        {
          "name": "stdout",
          "output_type": "stream",
          "text": [
            "\u001b[1m1/1\u001b[0m \u001b[32m━━━━━━━━━━━━━━━━━━━━\u001b[0m\u001b[37m\u001b[0m \u001b[1m1s\u001b[0m 904ms/step\n",
            "[[2.6414608e-07 1.4674902e-06 5.6602204e-07 1.0782795e-05 1.6913646e-08\n",
            "  5.3648974e-10 3.1748226e-13 9.9998319e-01 2.8777350e-07 3.3662091e-06]]\n",
            "Predicted digit is  7\n"
          ]
        }
      ],
      "source": [
        "import numpy as np\n",
        "from PIL import Image\n",
        "\n",
        "new_image = Image.open('sample_image.png')\n",
        "\n",
        "#Convert the image to grey scale\n",
        "new_image = new_image.convert('L').resize((28, 28))\n",
        "\n",
        "new_digit = np.array(new_image) / 255.0\n",
        "\n",
        "new_digit = new_digit.reshape((1, 784))\n",
        "\n",
        "predictions = loaded_model.predict(new_digit)\n",
        "\n",
        "predicted_digit = np.argmax(predictions)\n",
        "\n",
        "print(predictions)\n",
        "print(\"Predicted digit is \", predicted_digit)"
      ]
    },
    {
      "cell_type": "code",
      "execution_count": null,
      "metadata": {},
      "outputs": [],
      "source": []
    }
  ],
  "metadata": {
    "colab": {
      "provenance": []
    },
    "kernelspec": {
      "display_name": "Python 3",
      "name": "python3"
    },
    "language_info": {
      "codemirror_mode": {
        "name": "ipython",
        "version": 3
      },
      "file_extension": ".py",
      "mimetype": "text/x-python",
      "name": "python",
      "nbconvert_exporter": "python",
      "pygments_lexer": "ipython3",
      "version": "3.11.5"
    }
  },
  "nbformat": 4,
  "nbformat_minor": 0
}
