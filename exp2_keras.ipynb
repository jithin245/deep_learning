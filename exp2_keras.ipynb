{
  "cells": [
    {
      "cell_type": "code",
      "execution_count": 1,
      "metadata": {
        "id": "gJzX-nhsjn5N"
      },
      "outputs": [],
      "source": [
        "# tensor\n",
        "import tensorflow as tf\n",
        "import numpy as np"
      ]
    },
    {
      "cell_type": "code",
      "execution_count": 2,
      "metadata": {
        "colab": {
          "base_uri": "https://localhost:8080/"
        },
        "id": "tl14sMBKj4sM",
        "outputId": "b3faabb3-93df-4ffb-bdeb-b2047eeffe4b"
      },
      "outputs": [
        {
          "name": "stdout",
          "output_type": "stream",
          "text": [
            "tf.Tensor([3.  4.  6.  7.  8.  0.9], shape=(6,), dtype=float32)\n"
          ]
        },
        {
          "name": "stderr",
          "output_type": "stream",
          "text": [
            "2024-04-26 15:06:32.684834: I metal_plugin/src/device/metal_device.cc:1154] Metal device set to: Apple M2\n",
            "2024-04-26 15:06:32.684853: I metal_plugin/src/device/metal_device.cc:296] systemMemory: 8.00 GB\n",
            "2024-04-26 15:06:32.684862: I metal_plugin/src/device/metal_device.cc:313] maxCacheSize: 2.67 GB\n",
            "2024-04-26 15:06:32.685096: I tensorflow/core/common_runtime/pluggable_device/pluggable_device_factory.cc:305] Could not identify NUMA node of platform GPU ID 0, defaulting to 0. Your kernel may not have been built with NUMA support.\n",
            "2024-04-26 15:06:32.685113: I tensorflow/core/common_runtime/pluggable_device/pluggable_device_factory.cc:271] Created TensorFlow device (/job:localhost/replica:0/task:0/device:GPU:0 with 0 MB memory) -> physical PluggableDevice (device: 0, name: METAL, pci bus id: <undefined>)\n"
          ]
        }
      ],
      "source": [
        "# one dim tensor\n",
        "tensor1 = tf.constant([3, 4.0, 6, 7, 8, .9])\n",
        "print(tensor1)"
      ]
    },
    {
      "cell_type": "code",
      "execution_count": 3,
      "metadata": {
        "colab": {
          "base_uri": "https://localhost:8080/"
        },
        "id": "dU5oWZYKkNBD",
        "outputId": "b109436b-8a54-49da-fc53-23170a376aaa"
      },
      "outputs": [
        {
          "name": "stdout",
          "output_type": "stream",
          "text": [
            "tf.Tensor(\n",
            "[[0 1 2]\n",
            " [2 3 4]\n",
            " [6 7 8]], shape=(3, 3), dtype=int32)\n"
          ]
        }
      ],
      "source": [
        "tensor2 = tf.constant([[0, 1, 2], [2, 3, 4], [6, 7, 8]])\n",
        "print(tensor2)"
      ]
    },
    {
      "cell_type": "markdown",
      "metadata": {
        "id": "tLhkYIEHlyx4"
      },
      "source": [
        "# To create ANN to predict handwritten digit classification"
      ]
    },
    {
      "cell_type": "code",
      "execution_count": 4,
      "metadata": {
        "colab": {
          "base_uri": "https://localhost:8080/"
        },
        "id": "_I61Th41kqEW",
        "outputId": "81eeb861-0a8f-4e9c-8e7b-1ffd6af77723"
      },
      "outputs": [
        {
          "name": "stdout",
          "output_type": "stream",
          "text": [
            "data loaded\n"
          ]
        }
      ],
      "source": [
        "# load the dataset\n",
        "from tensorflow.keras.datasets import mnist\n",
        "print('data loaded')"
      ]
    },
    {
      "cell_type": "code",
      "execution_count": 5,
      "metadata": {
        "id": "8GP8I2zxmJnS"
      },
      "outputs": [],
      "source": [
        "# create train set & test set\n",
        "(X_train, y_train), (X_test, y_test) = mnist.load_data()"
      ]
    },
    {
      "cell_type": "code",
      "execution_count": 6,
      "metadata": {
        "colab": {
          "base_uri": "https://localhost:8080/"
        },
        "id": "EuyQaZdImekP",
        "outputId": "2921ec11-595e-4f77-aa26-9c762a1ccb40"
      },
      "outputs": [
        {
          "data": {
            "text/plain": [
              "(60000, 28, 28)"
            ]
          },
          "execution_count": 6,
          "metadata": {},
          "output_type": "execute_result"
        }
      ],
      "source": [
        "X_train.shape # number of image, height of image, width of image"
      ]
    },
    {
      "cell_type": "code",
      "execution_count": 7,
      "metadata": {
        "colab": {
          "base_uri": "https://localhost:8080/"
        },
        "id": "66UlQconmk9D",
        "outputId": "74ad027f-7db5-464c-bf35-a876a2d46886"
      },
      "outputs": [
        {
          "data": {
            "text/plain": [
              "(10000, 28, 28)"
            ]
          },
          "execution_count": 7,
          "metadata": {},
          "output_type": "execute_result"
        }
      ],
      "source": [
        "X_test.shape"
      ]
    },
    {
      "cell_type": "code",
      "execution_count": 8,
      "metadata": {
        "colab": {
          "base_uri": "https://localhost:8080/"
        },
        "id": "HxDJpQZvmysL",
        "outputId": "891b26a0-0b15-4a82-a472-3d054f376f93"
      },
      "outputs": [
        {
          "data": {
            "text/plain": [
              "(10000,)"
            ]
          },
          "execution_count": 8,
          "metadata": {},
          "output_type": "execute_result"
        }
      ],
      "source": [
        "y_test.shape"
      ]
    },
    {
      "cell_type": "code",
      "execution_count": 9,
      "metadata": {
        "colab": {
          "base_uri": "https://localhost:8080/",
          "height": 68
        },
        "id": "MwswULs1nBQ7",
        "outputId": "cb32fa68-08f5-4a06-cab2-81085833def1"
      },
      "outputs": [
        {
          "data": {
            "text/plain": [
              "array([[  0,   0,   0,   0,   0,   0,   0,   0,   0,   0,   0,   0,   0,\n",
              "          0,   0,   0,   0,   0,   0,   0,   0,   0,   0,   0,   0,   0,\n",
              "          0,   0],\n",
              "       [  0,   0,   0,   0,   0,   0,   0,   0,   0,   0,   0,   0,   0,\n",
              "          0,   0,   0,   0,   0,   0,   0,   0,   0,   0,   0,   0,   0,\n",
              "          0,   0],\n",
              "       [  0,   0,   0,   0,   0,   0,   0,   0,   0,   0,   0,   0,   0,\n",
              "          0,   0,   0,   0,   0,   0,   0,   0,   0,   0,   0,   0,   0,\n",
              "          0,   0],\n",
              "       [  0,   0,   0,   0,   0,   0,   0,   0,   0,   0,   0,   0,   0,\n",
              "          0,   0,   0,   0,   0,   0,   0,   0,   0,   0,   0,   0,   0,\n",
              "          0,   0],\n",
              "       [  0,   0,   0,   0,   0,   0,   0,   0,   0,   0,   0,   0,   0,\n",
              "          0,   0,   0,   0,   0,   0,   0,   0,   0,   0,   0,   0,   0,\n",
              "          0,   0],\n",
              "       [  0,   0,   0,   0,   0,   0,   0,   0,   0,   0,   0,   0,   3,\n",
              "         18,  18,  18, 126, 136, 175,  26, 166, 255, 247, 127,   0,   0,\n",
              "          0,   0],\n",
              "       [  0,   0,   0,   0,   0,   0,   0,   0,  30,  36,  94, 154, 170,\n",
              "        253, 253, 253, 253, 253, 225, 172, 253, 242, 195,  64,   0,   0,\n",
              "          0,   0],\n",
              "       [  0,   0,   0,   0,   0,   0,   0,  49, 238, 253, 253, 253, 253,\n",
              "        253, 253, 253, 253, 251,  93,  82,  82,  56,  39,   0,   0,   0,\n",
              "          0,   0],\n",
              "       [  0,   0,   0,   0,   0,   0,   0,  18, 219, 253, 253, 253, 253,\n",
              "        253, 198, 182, 247, 241,   0,   0,   0,   0,   0,   0,   0,   0,\n",
              "          0,   0],\n",
              "       [  0,   0,   0,   0,   0,   0,   0,   0,  80, 156, 107, 253, 253,\n",
              "        205,  11,   0,  43, 154,   0,   0,   0,   0,   0,   0,   0,   0,\n",
              "          0,   0],\n",
              "       [  0,   0,   0,   0,   0,   0,   0,   0,   0,  14,   1, 154, 253,\n",
              "         90,   0,   0,   0,   0,   0,   0,   0,   0,   0,   0,   0,   0,\n",
              "          0,   0],\n",
              "       [  0,   0,   0,   0,   0,   0,   0,   0,   0,   0,   0, 139, 253,\n",
              "        190,   2,   0,   0,   0,   0,   0,   0,   0,   0,   0,   0,   0,\n",
              "          0,   0],\n",
              "       [  0,   0,   0,   0,   0,   0,   0,   0,   0,   0,   0,  11, 190,\n",
              "        253,  70,   0,   0,   0,   0,   0,   0,   0,   0,   0,   0,   0,\n",
              "          0,   0],\n",
              "       [  0,   0,   0,   0,   0,   0,   0,   0,   0,   0,   0,   0,  35,\n",
              "        241, 225, 160, 108,   1,   0,   0,   0,   0,   0,   0,   0,   0,\n",
              "          0,   0],\n",
              "       [  0,   0,   0,   0,   0,   0,   0,   0,   0,   0,   0,   0,   0,\n",
              "         81, 240, 253, 253, 119,  25,   0,   0,   0,   0,   0,   0,   0,\n",
              "          0,   0],\n",
              "       [  0,   0,   0,   0,   0,   0,   0,   0,   0,   0,   0,   0,   0,\n",
              "          0,  45, 186, 253, 253, 150,  27,   0,   0,   0,   0,   0,   0,\n",
              "          0,   0],\n",
              "       [  0,   0,   0,   0,   0,   0,   0,   0,   0,   0,   0,   0,   0,\n",
              "          0,   0,  16,  93, 252, 253, 187,   0,   0,   0,   0,   0,   0,\n",
              "          0,   0],\n",
              "       [  0,   0,   0,   0,   0,   0,   0,   0,   0,   0,   0,   0,   0,\n",
              "          0,   0,   0,   0, 249, 253, 249,  64,   0,   0,   0,   0,   0,\n",
              "          0,   0],\n",
              "       [  0,   0,   0,   0,   0,   0,   0,   0,   0,   0,   0,   0,   0,\n",
              "          0,  46, 130, 183, 253, 253, 207,   2,   0,   0,   0,   0,   0,\n",
              "          0,   0],\n",
              "       [  0,   0,   0,   0,   0,   0,   0,   0,   0,   0,   0,   0,  39,\n",
              "        148, 229, 253, 253, 253, 250, 182,   0,   0,   0,   0,   0,   0,\n",
              "          0,   0],\n",
              "       [  0,   0,   0,   0,   0,   0,   0,   0,   0,   0,  24, 114, 221,\n",
              "        253, 253, 253, 253, 201,  78,   0,   0,   0,   0,   0,   0,   0,\n",
              "          0,   0],\n",
              "       [  0,   0,   0,   0,   0,   0,   0,   0,  23,  66, 213, 253, 253,\n",
              "        253, 253, 198,  81,   2,   0,   0,   0,   0,   0,   0,   0,   0,\n",
              "          0,   0],\n",
              "       [  0,   0,   0,   0,   0,   0,  18, 171, 219, 253, 253, 253, 253,\n",
              "        195,  80,   9,   0,   0,   0,   0,   0,   0,   0,   0,   0,   0,\n",
              "          0,   0],\n",
              "       [  0,   0,   0,   0,  55, 172, 226, 253, 253, 253, 253, 244, 133,\n",
              "         11,   0,   0,   0,   0,   0,   0,   0,   0,   0,   0,   0,   0,\n",
              "          0,   0],\n",
              "       [  0,   0,   0,   0, 136, 253, 253, 253, 212, 135, 132,  16,   0,\n",
              "          0,   0,   0,   0,   0,   0,   0,   0,   0,   0,   0,   0,   0,\n",
              "          0,   0],\n",
              "       [  0,   0,   0,   0,   0,   0,   0,   0,   0,   0,   0,   0,   0,\n",
              "          0,   0,   0,   0,   0,   0,   0,   0,   0,   0,   0,   0,   0,\n",
              "          0,   0],\n",
              "       [  0,   0,   0,   0,   0,   0,   0,   0,   0,   0,   0,   0,   0,\n",
              "          0,   0,   0,   0,   0,   0,   0,   0,   0,   0,   0,   0,   0,\n",
              "          0,   0],\n",
              "       [  0,   0,   0,   0,   0,   0,   0,   0,   0,   0,   0,   0,   0,\n",
              "          0,   0,   0,   0,   0,   0,   0,   0,   0,   0,   0,   0,   0,\n",
              "          0,   0]], dtype=uint8)"
            ]
          },
          "execution_count": 9,
          "metadata": {},
          "output_type": "execute_result"
        }
      ],
      "source": [
        "X_train[0]"
      ]
    },
    {
      "cell_type": "code",
      "execution_count": 10,
      "metadata": {
        "colab": {
          "base_uri": "https://localhost:8080/",
          "height": 430
        },
        "id": "XrdlTLKOnkNf",
        "outputId": "19a51368-be0e-4601-fae5-e9f8535d65d2"
      },
      "outputs": [
        {
          "data": {
            "image/png": "[encoded data removed]",
            "text/plain": [
              "<Figure size 640x480 with 1 Axes>"
            ]
          },
          "metadata": {},
          "output_type": "display_data"
        }
      ],
      "source": [
        "import matplotlib.pyplot as plt\n",
        "\n",
        "plt.imshow(X_train[0], cmap='gray')\n",
        "plt.show()"
      ]
    },
    {
      "cell_type": "code",
      "execution_count": 11,
      "metadata": {
        "colab": {
          "base_uri": "https://localhost:8080/",
          "height": 430
        },
        "id": "cHSlKzcZnyx5",
        "outputId": "6a277668-66dc-40f6-db68-0781789ccd4a"
      },
      "outputs": [
        {
          "data": {
            "image/png": "[encoded data removed]",
            "text/plain": [
              "<Figure size 640x480 with 1 Axes>"
            ]
          },
          "metadata": {},
          "output_type": "display_data"
        }
      ],
      "source": [
        "plt.imshow(X_train[1], cmap='gray')\n",
        "plt.show()"
      ]
    },
    {
      "cell_type": "code",
      "execution_count": 12,
      "metadata": {
        "id": "SCK5ToCmoRlu"
      },
      "outputs": [],
      "source": [
        "# preprocessing\n",
        "# reshape the train & test data to one dim array becoz ANN require one dimension\n",
        "# 28 * 28 --- 784\n",
        "\n",
        "X_train = X_train.reshape(60000, 784)\n",
        "X_test = X_test.reshape(10000, 784)"
      ]
    },
    {
      "cell_type": "code",
      "execution_count": 13,
      "metadata": {
        "colab": {
          "base_uri": "https://localhost:8080/"
        },
        "id": "CZmFExgTpCCY",
        "outputId": "5df03ea9-9155-4813-ec57-18908038d26e"
      },
      "outputs": [
        {
          "data": {
            "text/plain": [
              "(60000, 784)"
            ]
          },
          "execution_count": 13,
          "metadata": {},
          "output_type": "execute_result"
        }
      ],
      "source": [
        "X_train.shape"
      ]
    },
    {
      "cell_type": "code",
      "execution_count": 14,
      "metadata": {
        "id": "Fa4aPaTepEB8"
      },
      "outputs": [],
      "source": [
        "# normalize the pixels from 0 to 1, right now pixels are from 0 to 255\n",
        "X_train = X_train/255.\n",
        "X_test = X_test/255."
      ]
    },
    {
      "cell_type": "code",
      "execution_count": 15,
      "metadata": {
        "colab": {
          "base_uri": "https://localhost:8080/"
        },
        "id": "4I6M3CI0pKXE",
        "outputId": "eb85a70c-46f8-4a9f-d504-249465547939"
      },
      "outputs": [
        {
          "data": {
            "text/plain": [
              "array([5, 0, 4, 1, 9, 2, 1, 3, 1, 4], dtype=uint8)"
            ]
          },
          "execution_count": 15,
          "metadata": {},
          "output_type": "execute_result"
        }
      ],
      "source": [
        "y_train[:10]"
      ]
    },
    {
      "cell_type": "code",
      "execution_count": 16,
      "metadata": {
        "id": "Fc7nmcTcpvtK"
      },
      "outputs": [],
      "source": [
        "# convert class vectors into one hot encoding\n",
        "from tensorflow.keras.utils import to_categorical\n",
        "\n",
        "num_classes = 10\n",
        "y_train = to_categorical(y_train, num_classes)\n",
        "y_test = to_categorical(y_test, num_classes)"
      ]
    },
    {
      "cell_type": "code",
      "execution_count": 17,
      "metadata": {
        "colab": {
          "base_uri": "https://localhost:8080/"
        },
        "id": "8t6uagfXqRKr",
        "outputId": "4880b00e-1263-4ce2-caf8-364b15d402df"
      },
      "outputs": [
        {
          "data": {
            "text/plain": [
              "array([[0., 0., 0., 0., 0., 0., 0., 1., 0., 0.],\n",
              "       [0., 0., 1., 0., 0., 0., 0., 0., 0., 0.],\n",
              "       [0., 1., 0., 0., 0., 0., 0., 0., 0., 0.],\n",
              "       [1., 0., 0., 0., 0., 0., 0., 0., 0., 0.],\n",
              "       [0., 0., 0., 0., 1., 0., 0., 0., 0., 0.],\n",
              "       [0., 1., 0., 0., 0., 0., 0., 0., 0., 0.],\n",
              "       [0., 0., 0., 0., 1., 0., 0., 0., 0., 0.],\n",
              "       [0., 0., 0., 0., 0., 0., 0., 0., 0., 1.],\n",
              "       [0., 0., 0., 0., 0., 1., 0., 0., 0., 0.],\n",
              "       [0., 0., 0., 0., 0., 0., 0., 0., 0., 1.]])"
            ]
          },
          "execution_count": 17,
          "metadata": {},
          "output_type": "execute_result"
        }
      ],
      "source": [
        "y_test[:10]"
      ]
    },
    {
      "cell_type": "markdown",
      "metadata": {
        "id": "rYE1m3dWrIdk"
      },
      "source": [
        "1. create the architecture\n",
        "2. compile the model\n",
        "3. fit the model\n",
        "4. evaluation & predict"
      ]
    },
    {
      "cell_type": "code",
      "execution_count": 18,
      "metadata": {
        "colab": {
          "base_uri": "https://localhost:8080/"
        },
        "id": "VqxSuwDKqUP9",
        "outputId": "91e8a42d-70ff-450d-e4fd-2d658269a1c2"
      },
      "outputs": [
        {
          "name": "stdout",
          "output_type": "stream",
          "text": [
            "Imported\n"
          ]
        }
      ],
      "source": [
        "# import the library\n",
        "from tensorflow.keras.models import Sequential\n",
        "from tensorflow.keras.layers import Dense\n",
        "print('Imported')"
      ]
    },
    {
      "cell_type": "markdown",
      "metadata": {
        "id": "q_bNMkm3yW8u"
      },
      "source": [
        "#Create Architecture\n",
        "1. 3 hidden layers\n",
        "2. Nodes in each hidden layers 100, 64, 32\n",
        "3. Activation function - Retified Linear Unit Hidden Layer (Relu hidden layer)\n",
        "4. output layer - Softmax"
      ]
    },
    {
      "cell_type": "code",
      "execution_count": 19,
      "metadata": {
        "id": "4BMLMBZeyY40"
      },
      "outputs": [
        {
          "name": "stderr",
          "output_type": "stream",
          "text": [
            "/Users/deepthy/anaconda3/lib/python3.11/site-packages/keras/src/layers/core/dense.py:86: UserWarning: Do not pass an `input_shape`/`input_dim` argument to a layer. When using Sequential models, prefer using an `Input(shape)` object as the first layer in the model instead.\n",
            "  super().__init__(activity_regularizer=activity_regularizer, **kwargs)\n"
          ]
        }
      ],
      "source": [
        "model = Sequential()\n",
        "\n",
        "# First Hidden Layer\n",
        "model.add(Dense(100, activation='relu', input_shape=(784, )))\n",
        "\n",
        "# Second Hidden Layer\n",
        "model.add(Dense(64, activation='relu'))\n",
        "\n",
        "# Third Hidden Layer\n",
        "model.add(Dense(32, activation='relu'))\n",
        "\n",
        "#output layer\n",
        "model.add(Dense(10, activation='softmax'))"
      ]
    },
    {
      "cell_type": "code",
      "execution_count": 20,
      "metadata": {
        "colab": {
          "base_uri": "https://localhost:8080/"
        },
        "id": "e87rlPjM3_o8",
        "outputId": "ee87a763-dd12-4214-f37c-ed06e3442ad3"
      },
      "outputs": [
        {
          "data": {
            "text/html": [
              "<pre style=\"white-space:pre;overflow-x:auto;line-height:normal;font-family:Menlo,'DejaVu Sans Mono',consolas,'Courier New',monospace\"><span style=\"font-weight: bold\">Model: \"sequential\"</span>\n",
              "</pre>\n"
            ],
            "text/plain": [
              "\u001b[1mModel: \"sequential\"\u001b[0m\n"
            ]
          },
          "metadata": {},
          "output_type": "display_data"
        },
        {
          "data": {
            "text/html": [
              "<pre style=\"white-space:pre;overflow-x:auto;line-height:normal;font-family:Menlo,'DejaVu Sans Mono',consolas,'Courier New',monospace\">┏━━━━━━━━━━━━━━━━━━━━━━━━━━━━━━━━━┳━━━━━━━━━━━━━━━━━━━━━━━━┳━━━━━━━━━━━━━━━┓\n",
              "┃<span style=\"font-weight: bold\"> Layer (type)                    </span>┃<span style=\"font-weight: bold\"> Output Shape           </span>┃<span style=\"font-weight: bold\">       Param # </span>┃\n",
              "┡━━━━━━━━━━━━━━━━━━━━━━━━━━━━━━━━━╇━━━━━━━━━━━━━━━━━━━━━━━━╇━━━━━━━━━━━━━━━┩\n",
              "│ dense (<span style=\"color: #0087ff; text-decoration-color: #0087ff\">Dense</span>)                   │ (<span style=\"color: #00d7ff; text-decoration-color: #00d7ff\">None</span>, <span style=\"color: #00af00; text-decoration-color: #00af00\">100</span>)            │        <span style=\"color: #00af00; text-decoration-color: #00af00\">78,500</span> │\n",
              "├─────────────────────────────────┼────────────────────────┼───────────────┤\n",
              "│ dense_1 (<span style=\"color: #0087ff; text-decoration-color: #0087ff\">Dense</span>)                 │ (<span style=\"color: #00d7ff; text-decoration-color: #00d7ff\">None</span>, <span style=\"color: #00af00; text-decoration-color: #00af00\">64</span>)             │         <span style=\"color: #00af00; text-decoration-color: #00af00\">6,464</span> │\n",
              "├─────────────────────────────────┼────────────────────────┼───────────────┤\n",
              "│ dense_2 (<span style=\"color: #0087ff; text-decoration-color: #0087ff\">Dense</span>)                 │ (<span style=\"color: #00d7ff; text-decoration-color: #00d7ff\">None</span>, <span style=\"color: #00af00; text-decoration-color: #00af00\">32</span>)             │         <span style=\"color: #00af00; text-decoration-color: #00af00\">2,080</span> │\n",
              "├─────────────────────────────────┼────────────────────────┼───────────────┤\n",
              "│ dense_3 (<span style=\"color: #0087ff; text-decoration-color: #0087ff\">Dense</span>)                 │ (<span style=\"color: #00d7ff; text-decoration-color: #00d7ff\">None</span>, <span style=\"color: #00af00; text-decoration-color: #00af00\">10</span>)             │           <span style=\"color: #00af00; text-decoration-color: #00af00\">330</span> │\n",
              "└─────────────────────────────────┴────────────────────────┴───────────────┘\n",
              "</pre>\n"
            ],
            "text/plain": [
              "┏━━━━━━━━━━━━━━━━━━━━━━━━━━━━━━━━━┳━━━━━━━━━━━━━━━━━━━━━━━━┳━━━━━━━━━━━━━━━┓\n",
              "┃\u001b[1m \u001b[0m\u001b[1mLayer (type)                   \u001b[0m\u001b[1m \u001b[0m┃\u001b[1m \u001b[0m\u001b[1mOutput Shape          \u001b[0m\u001b[1m \u001b[0m┃\u001b[1m \u001b[0m\u001b[1m      Param #\u001b[0m\u001b[1m \u001b[0m┃\n",
              "┡━━━━━━━━━━━━━━━━━━━━━━━━━━━━━━━━━╇━━━━━━━━━━━━━━━━━━━━━━━━╇━━━━━━━━━━━━━━━┩\n",
              "│ dense (\u001b[38;5;33mDense\u001b[0m)                   │ (\u001b[38;5;45mNone\u001b[0m, \u001b[38;5;34m100\u001b[0m)            │        \u001b[38;5;34m78,500\u001b[0m │\n",
              "├─────────────────────────────────┼────────────────────────┼───────────────┤\n",
              "│ dense_1 (\u001b[38;5;33mDense\u001b[0m)                 │ (\u001b[38;5;45mNone\u001b[0m, \u001b[38;5;34m64\u001b[0m)             │         \u001b[38;5;34m6,464\u001b[0m │\n",
              "├─────────────────────────────────┼────────────────────────┼───────────────┤\n",
              "│ dense_2 (\u001b[38;5;33mDense\u001b[0m)                 │ (\u001b[38;5;45mNone\u001b[0m, \u001b[38;5;34m32\u001b[0m)             │         \u001b[38;5;34m2,080\u001b[0m │\n",
              "├─────────────────────────────────┼────────────────────────┼───────────────┤\n",
              "│ dense_3 (\u001b[38;5;33mDense\u001b[0m)                 │ (\u001b[38;5;45mNone\u001b[0m, \u001b[38;5;34m10\u001b[0m)             │           \u001b[38;5;34m330\u001b[0m │\n",
              "└─────────────────────────────────┴────────────────────────┴───────────────┘\n"
            ]
          },
          "metadata": {},
          "output_type": "display_data"
        },
        {
          "data": {
            "text/html": [
              "<pre style=\"white-space:pre;overflow-x:auto;line-height:normal;font-family:Menlo,'DejaVu Sans Mono',consolas,'Courier New',monospace\"><span style=\"font-weight: bold\"> Total params: </span><span style=\"color: #00af00; text-decoration-color: #00af00\">87,374</span> (341.30 KB)\n",
              "</pre>\n"
            ],
            "text/plain": [
              "\u001b[1m Total params: \u001b[0m\u001b[38;5;34m87,374\u001b[0m (341.30 KB)\n"
            ]
          },
          "metadata": {},
          "output_type": "display_data"
        },
        {
          "data": {
            "text/html": [
              "<pre style=\"white-space:pre;overflow-x:auto;line-height:normal;font-family:Menlo,'DejaVu Sans Mono',consolas,'Courier New',monospace\"><span style=\"font-weight: bold\"> Trainable params: </span><span style=\"color: #00af00; text-decoration-color: #00af00\">87,374</span> (341.30 KB)\n",
              "</pre>\n"
            ],
            "text/plain": [
              "\u001b[1m Trainable params: \u001b[0m\u001b[38;5;34m87,374\u001b[0m (341.30 KB)\n"
            ]
          },
          "metadata": {},
          "output_type": "display_data"
        },
        {
          "data": {
            "text/html": [
              "<pre style=\"white-space:pre;overflow-x:auto;line-height:normal;font-family:Menlo,'DejaVu Sans Mono',consolas,'Courier New',monospace\"><span style=\"font-weight: bold\"> Non-trainable params: </span><span style=\"color: #00af00; text-decoration-color: #00af00\">0</span> (0.00 B)\n",
              "</pre>\n"
            ],
            "text/plain": [
              "\u001b[1m Non-trainable params: \u001b[0m\u001b[38;5;34m0\u001b[0m (0.00 B)\n"
            ]
          },
          "metadata": {},
          "output_type": "display_data"
        }
      ],
      "source": [
        "model.summary()"
      ]
    },
    {
      "cell_type": "markdown",
      "metadata": {
        "id": "rUCHoKNN7vmq"
      },
      "source": [
        "# Compile the model\n",
        "1. loss function\n",
        "2. optimizer\n",
        "3. evaluate accuracy"
      ]
    },
    {
      "cell_type": "code",
      "execution_count": 21,
      "metadata": {
        "colab": {
          "base_uri": "https://localhost:8080/"
        },
        "id": "ehYOk3AW4EqG",
        "outputId": "2ded7e90-8003-4df7-f214-8ba9ba51e3c0"
      },
      "outputs": [
        {
          "name": "stdout",
          "output_type": "stream",
          "text": [
            "model is compiled\n"
          ]
        }
      ],
      "source": [
        "# compile the model\n",
        "model.compile(loss='categorical_crossentropy', optimizer='adam', metrics=['accuracy']) # adapative momemtum estimation optimizer\n",
        "print('model is compiled')"
      ]
    },
    {
      "cell_type": "code",
      "execution_count": 22,
      "metadata": {
        "id": "phzoDjhZ9DOv"
      },
      "outputs": [
        {
          "name": "stdout",
          "output_type": "stream",
          "text": [
            "shape (784, 100)\n",
            "layer name dense:\n",
            "[[ 0.02263865  0.02921902  0.06898206 ... -0.05039436  0.05087911\n",
            "   0.01370743]\n",
            " [ 0.0659502   0.04592711 -0.0788773  ... -0.04980001  0.04142802\n",
            "  -0.07405189]\n",
            " [-0.03454633 -0.07663668  0.01891563 ...  0.03991799 -0.08024246\n",
            "   0.0190604 ]\n",
            " ...\n",
            " [-0.02111039  0.04281606  0.03448995 ...  0.07505387 -0.07449765\n",
            "  -0.04494523]\n",
            " [ 0.05245288 -0.05701698 -0.04265593 ...  0.06185088  0.06235006\n",
            "   0.01029044]\n",
            " [-0.05060641  0.03348783 -0.04081778 ...  0.07403015 -0.03877049\n",
            "   0.07045509]]\n",
            "shape (100,)\n",
            "layer name dense:\n",
            "[0. 0. 0. 0. 0. 0. 0. 0. 0. 0. 0. 0. 0. 0. 0. 0. 0. 0. 0. 0. 0. 0. 0. 0.\n",
            " 0. 0. 0. 0. 0. 0. 0. 0. 0. 0. 0. 0. 0. 0. 0. 0. 0. 0. 0. 0. 0. 0. 0. 0.\n",
            " 0. 0. 0. 0. 0. 0. 0. 0. 0. 0. 0. 0. 0. 0. 0. 0. 0. 0. 0. 0. 0. 0. 0. 0.\n",
            " 0. 0. 0. 0. 0. 0. 0. 0. 0. 0. 0. 0. 0. 0. 0. 0. 0. 0. 0. 0. 0. 0. 0. 0.\n",
            " 0. 0. 0. 0.]\n",
            "shape (100, 64)\n",
            "layer name dense_1:\n",
            "[[-0.06886529 -0.07486578 -0.12945217 ... -0.10596382 -0.08969503\n",
            "  -0.01449446]\n",
            " [ 0.13676317 -0.1895457   0.04844698 ... -0.13183169 -0.15117034\n",
            "  -0.15569183]\n",
            " [ 0.07225953  0.12034313 -0.02373871 ... -0.02545635  0.07153283\n",
            "   0.17446001]\n",
            " ...\n",
            " [-0.12305579 -0.02556579  0.1637484  ...  0.09601064 -0.11317776\n",
            "  -0.01209188]\n",
            " [-0.09731461 -0.1727777   0.12526996 ...  0.01697756 -0.13762532\n",
            "   0.1303112 ]\n",
            " [-0.02582911 -0.03195155 -0.03562154 ... -0.11611155 -0.11011793\n",
            "  -0.06431028]]\n",
            "shape (64,)\n",
            "layer name dense_1:\n",
            "[0. 0. 0. 0. 0. 0. 0. 0. 0. 0. 0. 0. 0. 0. 0. 0. 0. 0. 0. 0. 0. 0. 0. 0.\n",
            " 0. 0. 0. 0. 0. 0. 0. 0. 0. 0. 0. 0. 0. 0. 0. 0. 0. 0. 0. 0. 0. 0. 0. 0.\n",
            " 0. 0. 0. 0. 0. 0. 0. 0. 0. 0. 0. 0. 0. 0. 0. 0.]\n",
            "shape (64, 32)\n",
            "layer name dense_2:\n",
            "[[ 0.0895198  -0.10391408 -0.04837883 ...  0.20584422 -0.2394216\n",
            "  -0.06469226]\n",
            " [ 0.0360834  -0.0469591  -0.03396541 ... -0.13384992  0.05514508\n",
            "   0.18255633]\n",
            " [ 0.21299046 -0.23782313 -0.18246186 ... -0.01434416 -0.01044136\n",
            "  -0.09409136]\n",
            " ...\n",
            " [-0.00566745  0.10556167  0.2307992  ... -0.109887    0.09382129\n",
            "  -0.0575608 ]\n",
            " [ 0.18750924  0.21873808 -0.22652447 ... -0.04221672 -0.11174494\n",
            "   0.00531656]\n",
            " [-0.03506386  0.04237276  0.19185507 ...  0.224513   -0.13961893\n",
            "   0.07202429]]\n",
            "shape (32,)\n",
            "layer name dense_2:\n",
            "[0. 0. 0. 0. 0. 0. 0. 0. 0. 0. 0. 0. 0. 0. 0. 0. 0. 0. 0. 0. 0. 0. 0. 0.\n",
            " 0. 0. 0. 0. 0. 0. 0. 0.]\n",
            "shape (32, 10)\n",
            "layer name dense_3:\n",
            "[[-0.1119521   0.33454308  0.3693876   0.10927176  0.26786223 -0.02388456\n",
            "   0.03539822 -0.34893686 -0.33487287 -0.11526683]\n",
            " [ 0.32701477 -0.17028895 -0.19220236 -0.07703167  0.06680465  0.1373358\n",
            "   0.25902107 -0.2700527  -0.3042879   0.34599403]\n",
            " [-0.16904537  0.23694882  0.03489584 -0.3587532   0.15294918  0.10609543\n",
            "   0.03581274  0.0453786   0.16862312  0.30198577]\n",
            " [-0.24015306 -0.14549802 -0.36914152  0.35656163  0.01966769 -0.3414777\n",
            "   0.01102811 -0.18715554 -0.3242847   0.28951302]\n",
            " [-0.13700174  0.18674126 -0.11814806 -0.15318824  0.10841089 -0.24676606\n",
            "  -0.36408344 -0.16358782 -0.13922448 -0.34936777]\n",
            " [-0.01212615 -0.3631877   0.04567271 -0.3475872   0.02854776  0.03009412\n",
            "   0.17838803  0.3583531  -0.08340046  0.3743939 ]\n",
            " [ 0.15163568 -0.29310298 -0.20221768  0.22784272 -0.0365223   0.11085397\n",
            "   0.25638703 -0.0226655   0.33475348  0.09631467]\n",
            " [ 0.08580765  0.14095059  0.3037505  -0.34544927 -0.32398382  0.08581614\n",
            "  -0.22624265  0.11374319  0.3504952   0.164256  ]\n",
            " [-0.26869696  0.29056177  0.32100508 -0.23733151  0.00130746  0.26981696\n",
            "   0.2738044   0.2555215   0.04883093  0.2597688 ]\n",
            " [-0.08820891 -0.3535357  -0.3138944  -0.2491957  -0.18620916  0.3054727\n",
            "  -0.2982328  -0.31940377 -0.11246502  0.11781481]\n",
            " [ 0.08507252  0.35475108 -0.05032176 -0.18726718 -0.26774606  0.00717098\n",
            "  -0.32026112 -0.13354804  0.20667085 -0.20833534]\n",
            " [ 0.09136525  0.22589931  0.2980806  -0.0925898  -0.0441395   0.10355648\n",
            "  -0.2266752   0.07823145  0.00613928 -0.28289318]\n",
            " [-0.22863264  0.28056744  0.2908232  -0.13900398 -0.33317938  0.308252\n",
            "  -0.05951384 -0.2057852  -0.14145128 -0.23060605]\n",
            " [-0.316238   -0.12617287 -0.12561065  0.03204319  0.20869693 -0.10712633\n",
            "   0.3395609   0.15582171  0.2123492  -0.14818314]\n",
            " [ 0.13622108 -0.2893446  -0.28686398  0.04002953  0.3538346  -0.24471173\n",
            "  -0.07618389 -0.22909538  0.29724154 -0.09783596]\n",
            " [ 0.11809623  0.0997352   0.13571998 -0.04647887  0.21890214 -0.23439786\n",
            "  -0.24058615  0.08280444  0.19263348  0.36345157]\n",
            " [ 0.07509756  0.19750008 -0.26216388 -0.3032862   0.0804987  -0.08842087\n",
            "  -0.01432556 -0.37698203 -0.09990948  0.33264014]\n",
            " [-0.0281738   0.14442447  0.04487088 -0.33696666  0.35742727 -0.2422638\n",
            "  -0.34567294  0.24185053  0.00906634 -0.08797374]\n",
            " [ 0.09490049  0.1741732   0.32649383  0.1837475  -0.29199296 -0.06916383\n",
            "   0.16732576  0.27574393 -0.31421936  0.05777976]\n",
            " [ 0.35146537  0.33152315  0.18967232  0.1739482  -0.20120598  0.19069943\n",
            "   0.19903234 -0.1505836   0.1964663  -0.04672173]\n",
            " [ 0.3620117   0.09196243  0.3251308  -0.28424227  0.29383853 -0.07304305\n",
            "   0.31059244  0.04639649  0.13493994 -0.27643746]\n",
            " [-0.09140185  0.0711557  -0.19347738 -0.13076848 -0.05626145  0.21265009\n",
            "   0.31881472  0.14970276  0.04072872 -0.30292413]\n",
            " [-0.25023812  0.23167065  0.30099234 -0.37717488  0.04435408 -0.04812831\n",
            "  -0.00785485  0.25222144 -0.2615659   0.3424473 ]\n",
            " [-0.28543702  0.29734007 -0.0551188   0.26021597  0.01435909 -0.14823686\n",
            "  -0.36455607 -0.09002572 -0.02939016 -0.18657422]\n",
            " [ 0.3038306   0.20223626  0.00257418 -0.06651971  0.36096367  0.23765096\n",
            "   0.09119564  0.34513798  0.08501017 -0.3168522 ]\n",
            " [-0.29158026  0.11746931 -0.20558876 -0.11078107  0.2628     -0.01595005\n",
            "  -0.21015328  0.0690895  -0.2794231  -0.29237038]\n",
            " [ 0.1955407   0.09398711 -0.35475647 -0.01923496 -0.02502972  0.18408474\n",
            "   0.19426689 -0.04485005  0.01949313  0.14647874]\n",
            " [ 0.01638404  0.32869592 -0.07957307 -0.15004805  0.27318993 -0.3282334\n",
            "  -0.1646243   0.14099547 -0.36870295 -0.33055615]\n",
            " [-0.04263958 -0.14423238 -0.21595751 -0.04056615 -0.36706665  0.19593856\n",
            "  -0.3754303   0.32524458 -0.33909157 -0.02978754]\n",
            " [-0.05824375  0.12066925  0.35256365 -0.04667965  0.1343945  -0.03384358\n",
            "  -0.34539142 -0.29145265 -0.17741433 -0.06222606]\n",
            " [ 0.2784736   0.14974985 -0.34721324  0.33938918 -0.35212445 -0.3277967\n",
            "  -0.19030015  0.01935571 -0.03405118 -0.11702153]\n",
            " [ 0.25750002 -0.06483927 -0.01680091  0.02261701 -0.11860394  0.1329011\n",
            "   0.25469753  0.3022453   0.21822855  0.2455208 ]]\n",
            "shape (10,)\n",
            "layer name dense_3:\n",
            "[0. 0. 0. 0. 0. 0. 0. 0. 0. 0.]\n"
          ]
        }
      ],
      "source": [
        "# initial weights & bias\n",
        "for layer in model.layers:\n",
        "    if hasattr(layer, 'weights'):\n",
        "      weights, biases = layer.get_weights()\n",
        "      print('shape', weights.shape)\n",
        "      print(f'layer name {layer.name}:')\n",
        "      print(weights)\n",
        "      print('shape', biases.shape)\n",
        "      print(f'layer name {layer.name}:')\n",
        "      print(biases)"
      ]
    },
    {
      "cell_type": "code",
      "execution_count": 23,
      "metadata": {
        "id": "zJ-RjjPB89w_"
      },
      "outputs": [],
      "source": [
        "# Evaluate & predict"
      ]
    },
    {
      "cell_type": "code",
      "execution_count": 24,
      "metadata": {
        "colab": {
          "base_uri": "https://localhost:8080/"
        },
        "id": "Lxxyk-jK8mHU",
        "outputId": "1625f5bb-0eb1-448c-cab7-dab64869fe59"
      },
      "outputs": [
        {
          "name": "stdout",
          "output_type": "stream",
          "text": [
            "Epoch 1/10\n"
          ]
        },
        {
          "name": "stderr",
          "output_type": "stream",
          "text": [
            "2024-04-26 15:06:34.667402: I tensorflow/core/grappler/optimizers/custom_graph_optimizer_registry.cc:117] Plugin optimizer for device_type GPU is enabled.\n"
          ]
        },
        {
          "name": "stdout",
          "output_type": "stream",
          "text": [
            "\u001b[1m469/469\u001b[0m \u001b[32m━━━━━━━━━━━━━━━━━━━━\u001b[0m\u001b[37m\u001b[0m \u001b[1m36s\u001b[0m 62ms/step - accuracy: 0.7692 - loss: 0.7350 - val_accuracy: 0.9468 - val_loss: 0.1686\n",
            "Epoch 2/10\n",
            "\u001b[1m469/469\u001b[0m \u001b[32m━━━━━━━━━━━━━━━━━━━━\u001b[0m\u001b[37m\u001b[0m \u001b[1m26s\u001b[0m 55ms/step - accuracy: 0.9570 - loss: 0.1460 - val_accuracy: 0.9646 - val_loss: 0.1167\n",
            "Epoch 3/10\n",
            "\u001b[1m469/469\u001b[0m \u001b[32m━━━━━━━━━━━━━━━━━━━━\u001b[0m\u001b[37m\u001b[0m \u001b[1m26s\u001b[0m 55ms/step - accuracy: 0.9716 - loss: 0.0978 - val_accuracy: 0.9698 - val_loss: 0.1011\n",
            "Epoch 4/10\n",
            "\u001b[1m469/469\u001b[0m \u001b[32m━━━━━━━━━━━━━━━━━━━━\u001b[0m\u001b[37m\u001b[0m \u001b[1m26s\u001b[0m 55ms/step - accuracy: 0.9780 - loss: 0.0733 - val_accuracy: 0.9733 - val_loss: 0.0858\n",
            "Epoch 5/10\n",
            "\u001b[1m469/469\u001b[0m \u001b[32m━━━━━━━━━━━━━━━━━━━━\u001b[0m\u001b[37m\u001b[0m \u001b[1m26s\u001b[0m 55ms/step - accuracy: 0.9816 - loss: 0.0583 - val_accuracy: 0.9755 - val_loss: 0.0807\n",
            "Epoch 6/10\n",
            "\u001b[1m469/469\u001b[0m \u001b[32m━━━━━━━━━━━━━━━━━━━━\u001b[0m\u001b[37m\u001b[0m \u001b[1m26s\u001b[0m 55ms/step - accuracy: 0.9856 - loss: 0.0464 - val_accuracy: 0.9750 - val_loss: 0.0837\n",
            "Epoch 7/10\n",
            "\u001b[1m469/469\u001b[0m \u001b[32m━━━━━━━━━━━━━━━━━━━━\u001b[0m\u001b[37m\u001b[0m \u001b[1m26s\u001b[0m 55ms/step - accuracy: 0.9888 - loss: 0.0360 - val_accuracy: 0.9718 - val_loss: 0.0929\n",
            "Epoch 8/10\n",
            "\u001b[1m469/469\u001b[0m \u001b[32m━━━━━━━━━━━━━━━━━━━━\u001b[0m\u001b[37m\u001b[0m \u001b[1m26s\u001b[0m 55ms/step - accuracy: 0.9898 - loss: 0.0323 - val_accuracy: 0.9787 - val_loss: 0.0785\n",
            "Epoch 9/10\n",
            "\u001b[1m469/469\u001b[0m \u001b[32m━━━━━━━━━━━━━━━━━━━━\u001b[0m\u001b[37m\u001b[0m \u001b[1m26s\u001b[0m 55ms/step - accuracy: 0.9919 - loss: 0.0249 - val_accuracy: 0.9774 - val_loss: 0.0797\n",
            "Epoch 10/10\n",
            "\u001b[1m469/469\u001b[0m \u001b[32m━━━━━━━━━━━━━━━━━━━━\u001b[0m\u001b[37m\u001b[0m \u001b[1m26s\u001b[0m 55ms/step - accuracy: 0.9940 - loss: 0.0195 - val_accuracy: 0.9759 - val_loss: 0.0903\n"
          ]
        }
      ],
      "source": [
        "# training\n",
        "batch_size = 128\n",
        "epochs = 10 # complete cycle where whole training data is passed\n",
        "\n",
        "history = model.fit(X_train, y_train, batch_size=batch_size, epochs = epochs, validation_data=(X_test, y_test))"
      ]
    },
    {
      "cell_type": "code",
      "execution_count": 25,
      "metadata": {
        "colab": {
          "base_uri": "https://localhost:8080/"
        },
        "id": "WFh359LOBkOz",
        "outputId": "d29fb3ba-9c57-443e-9998-13dd8579f35d"
      },
      "outputs": [
        {
          "name": "stdout",
          "output_type": "stream",
          "text": [
            "\u001b[1m313/313\u001b[0m \u001b[32m━━━━━━━━━━━━━━━━━━━━\u001b[0m\u001b[37m\u001b[0m \u001b[1m13s\u001b[0m 39ms/step - accuracy: 0.9692 - loss: 0.1160\n"
          ]
        },
        {
          "data": {
            "text/plain": [
              "[0.09030301123857498, 0.9758999943733215]"
            ]
          },
          "execution_count": 25,
          "metadata": {},
          "output_type": "execute_result"
        }
      ],
      "source": [
        "# evaluate the model\n",
        "model.evaluate(X_test, y_test)"
      ]
    },
    {
      "cell_type": "code",
      "execution_count": 26,
      "metadata": {
        "colab": {
          "base_uri": "https://localhost:8080/"
        },
        "id": "5EKd7F5iC-4X",
        "outputId": "86aa077c-758c-4fb1-8967-75c424421111"
      },
      "outputs": [
        {
          "name": "stdout",
          "output_type": "stream",
          "text": [
            "\u001b[1m1875/1875\u001b[0m \u001b[32m━━━━━━━━━━━━━━━━━━━━\u001b[0m\u001b[37m\u001b[0m \u001b[1m73s\u001b[0m 39ms/step - accuracy: 0.9922 - loss: 0.0220\n"
          ]
        },
        {
          "data": {
            "text/plain": [
              "[0.022122662514448166, 0.9922999739646912]"
            ]
          },
          "execution_count": 26,
          "metadata": {},
          "output_type": "execute_result"
        }
      ],
      "source": [
        "# train accuracy\n",
        "model.evaluate(X_train, y_train)"
      ]
    },
    {
      "cell_type": "code",
      "execution_count": 27,
      "metadata": {
        "colab": {
          "base_uri": "https://localhost:8080/",
          "height": 472
        },
        "id": "VdxcTU6JDKCT",
        "outputId": "6d465e4f-819e-4a8d-e026-acd9e5230ae6"
      },
      "outputs": [
        {
          "data": {
            "image/png": "[encoded data removed]",
            "text/plain": [
              "<Figure size 640x480 with 1 Axes>"
            ]
          },
          "metadata": {},
          "output_type": "display_data"
        }
      ],
      "source": [
        "# plot the graph\n",
        "plt.plot(history.history['accuracy'])\n",
        "plt.plot(history.history['val_accuracy'])\n",
        "plt.title('Model Accuracy')\n",
        "plt.xlabel('Epochs')\n",
        "plt.ylabel('Accuracy')\n",
        "plt.legend(['train', 'test'], loc='best')\n",
        "plt.show()"
      ]
    },
    {
      "cell_type": "code",
      "execution_count": 28,
      "metadata": {
        "colab": {
          "base_uri": "https://localhost:8080/",
          "height": 472
        },
        "id": "XrjzCCSDEG2W",
        "outputId": "309dbf33-be1f-4d8c-ebb0-49fcf09459c1"
      },
      "outputs": [
        {
          "data": {
            "image/png": "[encoded data removed]",
            "text/plain": [
              "<Figure size 640x480 with 1 Axes>"
            ]
          },
          "metadata": {},
          "output_type": "display_data"
        }
      ],
      "source": [
        "# plot the losses\n",
        "plt.plot(history.history['loss'])\n",
        "plt.plot(history.history['val_loss'])\n",
        "plt.title('Model loss')\n",
        "plt.xlabel('Epochs')\n",
        "plt.ylabel('Los')\n",
        "plt.legend(['train', 'test'], loc='best')\n",
        "plt.show()"
      ]
    },
    {
      "cell_type": "code",
      "execution_count": 29,
      "metadata": {
        "colab": {
          "base_uri": "https://localhost:8080/"
        },
        "id": "T_f8bCY2EOHI",
        "outputId": "498072b0-a049-4a04-9928-6efa09ab878f"
      },
      "outputs": [
        {
          "name": "stderr",
          "output_type": "stream",
          "text": [
            "WARNING:absl:You are saving your model as an HDF5 file via `model.save()` or `keras.saving.save_model(model)`. This file format is considered legacy. We recommend using instead the native Keras format, e.g. `model.save('my_model.keras')` or `keras.saving.save_model(model, 'my_model.keras')`. \n"
          ]
        },
        {
          "name": "stdout",
          "output_type": "stream",
          "text": [
            "model saved\n"
          ]
        }
      ],
      "source": [
        "# save the model\n",
        "model.save('handwritten_digit_prediction.h5')\n",
        "print(\"model saved\")"
      ]
    },
    {
      "cell_type": "code",
      "execution_count": 30,
      "metadata": {
        "colab": {
          "base_uri": "https://localhost:8080/"
        },
        "id": "Ph4SpiUoFvW2",
        "outputId": "f73567bc-1f35-4ed6-c7e5-e3e3cf3e7b79"
      },
      "outputs": [
        {
          "name": "stderr",
          "output_type": "stream",
          "text": [
            "WARNING:absl:Compiled the loaded model, but the compiled metrics have yet to be built. `model.compile_metrics` will be empty until you train or evaluate the model.\n"
          ]
        },
        {
          "name": "stdout",
          "output_type": "stream",
          "text": [
            "model loaded\n"
          ]
        }
      ],
      "source": [
        "# load the model\n",
        "from tensorflow.keras.models import load_model\n",
        "\n",
        "loaded_model = load_model('handwritten_digit_prediction.h5')\n",
        "print('model loaded')\n"
      ]
    },
    {
      "cell_type": "code",
      "execution_count": 31,
      "metadata": {
        "colab": {
          "base_uri": "https://localhost:8080/"
        },
        "id": "Wgd16n4arqzC",
        "outputId": "7c26fa35-06a4-471d-c9cc-4547adc74cb9"
      },
      "outputs": [
        {
          "data": {
            "text/html": [
              "<pre style=\"white-space:pre;overflow-x:auto;line-height:normal;font-family:Menlo,'DejaVu Sans Mono',consolas,'Courier New',monospace\"><span style=\"font-weight: bold\">Model: \"sequential\"</span>\n",
              "</pre>\n"
            ],
            "text/plain": [
              "\u001b[1mModel: \"sequential\"\u001b[0m\n"
            ]
          },
          "metadata": {},
          "output_type": "display_data"
        },
        {
          "data": {
            "text/html": [
              "<pre style=\"white-space:pre;overflow-x:auto;line-height:normal;font-family:Menlo,'DejaVu Sans Mono',consolas,'Courier New',monospace\">┏━━━━━━━━━━━━━━━━━━━━━━━━━━━━━━━━━┳━━━━━━━━━━━━━━━━━━━━━━━━┳━━━━━━━━━━━━━━━┓\n",
              "┃<span style=\"font-weight: bold\"> Layer (type)                    </span>┃<span style=\"font-weight: bold\"> Output Shape           </span>┃<span style=\"font-weight: bold\">       Param # </span>┃\n",
              "┡━━━━━━━━━━━━━━━━━━━━━━━━━━━━━━━━━╇━━━━━━━━━━━━━━━━━━━━━━━━╇━━━━━━━━━━━━━━━┩\n",
              "│ dense (<span style=\"color: #0087ff; text-decoration-color: #0087ff\">Dense</span>)                   │ (<span style=\"color: #00d7ff; text-decoration-color: #00d7ff\">None</span>, <span style=\"color: #00af00; text-decoration-color: #00af00\">100</span>)            │        <span style=\"color: #00af00; text-decoration-color: #00af00\">78,500</span> │\n",
              "├─────────────────────────────────┼────────────────────────┼───────────────┤\n",
              "│ dense_1 (<span style=\"color: #0087ff; text-decoration-color: #0087ff\">Dense</span>)                 │ (<span style=\"color: #00d7ff; text-decoration-color: #00d7ff\">None</span>, <span style=\"color: #00af00; text-decoration-color: #00af00\">64</span>)             │         <span style=\"color: #00af00; text-decoration-color: #00af00\">6,464</span> │\n",
              "├─────────────────────────────────┼────────────────────────┼───────────────┤\n",
              "│ dense_2 (<span style=\"color: #0087ff; text-decoration-color: #0087ff\">Dense</span>)                 │ (<span style=\"color: #00d7ff; text-decoration-color: #00d7ff\">None</span>, <span style=\"color: #00af00; text-decoration-color: #00af00\">32</span>)             │         <span style=\"color: #00af00; text-decoration-color: #00af00\">2,080</span> │\n",
              "├─────────────────────────────────┼────────────────────────┼───────────────┤\n",
              "│ dense_3 (<span style=\"color: #0087ff; text-decoration-color: #0087ff\">Dense</span>)                 │ (<span style=\"color: #00d7ff; text-decoration-color: #00d7ff\">None</span>, <span style=\"color: #00af00; text-decoration-color: #00af00\">10</span>)             │           <span style=\"color: #00af00; text-decoration-color: #00af00\">330</span> │\n",
              "└─────────────────────────────────┴────────────────────────┴───────────────┘\n",
              "</pre>\n"
            ],
            "text/plain": [
              "┏━━━━━━━━━━━━━━━━━━━━━━━━━━━━━━━━━┳━━━━━━━━━━━━━━━━━━━━━━━━┳━━━━━━━━━━━━━━━┓\n",
              "┃\u001b[1m \u001b[0m\u001b[1mLayer (type)                   \u001b[0m\u001b[1m \u001b[0m┃\u001b[1m \u001b[0m\u001b[1mOutput Shape          \u001b[0m\u001b[1m \u001b[0m┃\u001b[1m \u001b[0m\u001b[1m      Param #\u001b[0m\u001b[1m \u001b[0m┃\n",
              "┡━━━━━━━━━━━━━━━━━━━━━━━━━━━━━━━━━╇━━━━━━━━━━━━━━━━━━━━━━━━╇━━━━━━━━━━━━━━━┩\n",
              "│ dense (\u001b[38;5;33mDense\u001b[0m)                   │ (\u001b[38;5;45mNone\u001b[0m, \u001b[38;5;34m100\u001b[0m)            │        \u001b[38;5;34m78,500\u001b[0m │\n",
              "├─────────────────────────────────┼────────────────────────┼───────────────┤\n",
              "│ dense_1 (\u001b[38;5;33mDense\u001b[0m)                 │ (\u001b[38;5;45mNone\u001b[0m, \u001b[38;5;34m64\u001b[0m)             │         \u001b[38;5;34m6,464\u001b[0m │\n",
              "├─────────────────────────────────┼────────────────────────┼───────────────┤\n",
              "│ dense_2 (\u001b[38;5;33mDense\u001b[0m)                 │ (\u001b[38;5;45mNone\u001b[0m, \u001b[38;5;34m32\u001b[0m)             │         \u001b[38;5;34m2,080\u001b[0m │\n",
              "├─────────────────────────────────┼────────────────────────┼───────────────┤\n",
              "│ dense_3 (\u001b[38;5;33mDense\u001b[0m)                 │ (\u001b[38;5;45mNone\u001b[0m, \u001b[38;5;34m10\u001b[0m)             │           \u001b[38;5;34m330\u001b[0m │\n",
              "└─────────────────────────────────┴────────────────────────┴───────────────┘\n"
            ]
          },
          "metadata": {},
          "output_type": "display_data"
        },
        {
          "data": {
            "text/html": [
              "<pre style=\"white-space:pre;overflow-x:auto;line-height:normal;font-family:Menlo,'DejaVu Sans Mono',consolas,'Courier New',monospace\"><span style=\"font-weight: bold\"> Total params: </span><span style=\"color: #00af00; text-decoration-color: #00af00\">87,376</span> (341.32 KB)\n",
              "</pre>\n"
            ],
            "text/plain": [
              "\u001b[1m Total params: \u001b[0m\u001b[38;5;34m87,376\u001b[0m (341.32 KB)\n"
            ]
          },
          "metadata": {},
          "output_type": "display_data"
        },
        {
          "data": {
            "text/html": [
              "<pre style=\"white-space:pre;overflow-x:auto;line-height:normal;font-family:Menlo,'DejaVu Sans Mono',consolas,'Courier New',monospace\"><span style=\"font-weight: bold\"> Trainable params: </span><span style=\"color: #00af00; text-decoration-color: #00af00\">87,374</span> (341.30 KB)\n",
              "</pre>\n"
            ],
            "text/plain": [
              "\u001b[1m Trainable params: \u001b[0m\u001b[38;5;34m87,374\u001b[0m (341.30 KB)\n"
            ]
          },
          "metadata": {},
          "output_type": "display_data"
        },
        {
          "data": {
            "text/html": [
              "<pre style=\"white-space:pre;overflow-x:auto;line-height:normal;font-family:Menlo,'DejaVu Sans Mono',consolas,'Courier New',monospace\"><span style=\"font-weight: bold\"> Non-trainable params: </span><span style=\"color: #00af00; text-decoration-color: #00af00\">0</span> (0.00 B)\n",
              "</pre>\n"
            ],
            "text/plain": [
              "\u001b[1m Non-trainable params: \u001b[0m\u001b[38;5;34m0\u001b[0m (0.00 B)\n"
            ]
          },
          "metadata": {},
          "output_type": "display_data"
        },
        {
          "data": {
            "text/html": [
              "<pre style=\"white-space:pre;overflow-x:auto;line-height:normal;font-family:Menlo,'DejaVu Sans Mono',consolas,'Courier New',monospace\"><span style=\"font-weight: bold\"> Optimizer params: </span><span style=\"color: #00af00; text-decoration-color: #00af00\">2</span> (12.00 B)\n",
              "</pre>\n"
            ],
            "text/plain": [
              "\u001b[1m Optimizer params: \u001b[0m\u001b[38;5;34m2\u001b[0m (12.00 B)\n"
            ]
          },
          "metadata": {},
          "output_type": "display_data"
        }
      ],
      "source": [
        "loaded_model.summary()"
      ]
    },
    {
      "cell_type": "code",
      "execution_count": 32,
      "metadata": {
        "id": "bRc-o9lvr3mo"
      },
      "outputs": [],
      "source": [
        "# predictions\n",
        "y_pred = loaded_model(X_test)"
      ]
    },
    {
      "cell_type": "code",
      "execution_count": 33,
      "metadata": {
        "colab": {
          "base_uri": "https://localhost:8080/"
        },
        "id": "m0rzBmcFsl1_",
        "outputId": "72de43e2-3474-4b7d-84eb-4f0d6ef80920"
      },
      "outputs": [
        {
          "data": {
            "text/plain": [
              "<tf.Tensor: shape=(10,), dtype=float32, numpy=\n",
              "array([5.9362428e-08, 2.1807281e-07, 2.6801156e-06, 4.3389750e-06,\n",
              "       1.0862290e-12, 3.1838059e-08, 9.6997464e-13, 9.9999273e-01,\n",
              "       8.5682634e-09, 1.6577419e-09], dtype=float32)>"
            ]
          },
          "execution_count": 33,
          "metadata": {},
          "output_type": "execute_result"
        }
      ],
      "source": [
        "y_pred[0]"
      ]
    },
    {
      "cell_type": "code",
      "execution_count": 34,
      "metadata": {
        "colab": {
          "base_uri": "https://localhost:8080/"
        },
        "id": "8-HV0XjSsms5",
        "outputId": "ad3ff00e-a072-425d-c084-bba16420ea4a"
      },
      "outputs": [
        {
          "data": {
            "text/plain": [
              "7"
            ]
          },
          "execution_count": 34,
          "metadata": {},
          "output_type": "execute_result"
        }
      ],
      "source": [
        "np.argmax(y_pred[0])"
      ]
    },
    {
      "cell_type": "code",
      "execution_count": 35,
      "metadata": {
        "id": "AhCnWoKcszph"
      },
      "outputs": [],
      "source": [
        "# see all outputs\n",
        "y_predict = np.argmax(y_pred, axis=1)"
      ]
    },
    {
      "cell_type": "code",
      "execution_count": 47,
      "metadata": {
        "colab": {
          "base_uri": "https://localhost:8080/"
        },
        "id": "Vm_lx-jbtB61",
        "outputId": "ab9e3feb-29d3-4814-aa00-1a74f35de978"
      },
      "outputs": [
        {
          "data": {
            "text/plain": [
              "array([7, 2, 1, ..., 4, 5, 6])"
            ]
          },
          "execution_count": 47,
          "metadata": {},
          "output_type": "execute_result"
        }
      ],
      "source": [
        "y_predict"
      ]
    },
    {
      "cell_type": "code",
      "execution_count": 37,
      "metadata": {
        "id": "StvJ7hpVtUCc"
      },
      "outputs": [],
      "source": [
        "# create train set & test set\n",
        "(X_train1, y_train1), (X_test1, y_test1) = mnist.load_data()"
      ]
    },
    {
      "cell_type": "code",
      "execution_count": 46,
      "metadata": {},
      "outputs": [
        {
          "data": {
            "text/plain": [
              "array([7, 2, 1, ..., 4, 5, 6], dtype=uint8)"
            ]
          },
          "execution_count": 46,
          "metadata": {},
          "output_type": "execute_result"
        }
      ],
      "source": [
        "y_test1"
      ]
    },
    {
      "cell_type": "code",
      "execution_count": 51,
      "metadata": {
        "colab": {
          "base_uri": "https://localhost:8080/",
          "height": 430
        },
        "id": "w9F9g29stl_H",
        "outputId": "370f9dea-075a-429e-cf71-31d3b36e77ac"
      },
      "outputs": [
        {
          "data": {
            "image/png": "[encoded data removed]",
            "text/plain": [
              "<Figure size 640x480 with 2 Axes>"
            ]
          },
          "metadata": {},
          "output_type": "display_data"
        }
      ],
      "source": [
        "from sklearn.metrics import confusion_matrix\n",
        "cm = confusion_matrix(y_test1, y_predict)\n",
        "\n",
        "import seaborn as sns\n",
        "sns.heatmap(cm, annot=True, fmt='d')\n",
        "plt.show()"
      ]
    },
    {
      "cell_type": "code",
      "execution_count": 39,
      "metadata": {
        "colab": {
          "base_uri": "https://localhost:8080/"
        },
        "id": "NCpnoOq_t-IR",
        "outputId": "b95fec86-c96b-46cb-c4e2-a80c1f5e7b09"
      },
      "outputs": [
        {
          "name": "stdout",
          "output_type": "stream",
          "text": [
            "shape (784, 100)\n",
            "layer name dense:\n",
            "[[ 0.02263865  0.02921902  0.06898206 ... -0.05039436  0.05087911\n",
            "   0.01370743]\n",
            " [ 0.0659502   0.04592711 -0.0788773  ... -0.04980001  0.04142802\n",
            "  -0.07405189]\n",
            " [-0.03454633 -0.07663668  0.01891563 ...  0.03991799 -0.08024246\n",
            "   0.0190604 ]\n",
            " ...\n",
            " [-0.02111039  0.04281606  0.03448995 ...  0.07505387 -0.07449765\n",
            "  -0.04494523]\n",
            " [ 0.05245288 -0.05701698 -0.04265593 ...  0.06185088  0.06235006\n",
            "   0.01029044]\n",
            " [-0.05060641  0.03348783 -0.04081778 ...  0.07403015 -0.03877049\n",
            "   0.07045509]]\n",
            "shape (100,)\n",
            "layer name dense:\n",
            "[-9.81627614e-04 -4.61008884e-02  1.17380302e-02 -2.58481801e-02\n",
            "  5.23001142e-03  8.75757188e-02  9.30694025e-03  3.71050388e-02\n",
            " -1.30996453e-02 -3.67798358e-02  4.34765667e-02  9.06970128e-02\n",
            "  1.67549606e-02 -4.57406277e-03  6.07265308e-02  3.71324494e-02\n",
            "  9.75224376e-02 -4.72964495e-02 -1.24621475e-02  2.11100443e-03\n",
            "  8.15265924e-02 -3.40727251e-03  9.16296616e-02 -4.37600259e-03\n",
            "  2.86377184e-02 -2.00192593e-02  1.68375671e-01  4.59989533e-05\n",
            "  4.62895930e-02  8.44473243e-02  6.75220266e-02 -3.97436731e-02\n",
            "  9.02187005e-02 -1.59754362e-02 -1.77335329e-02 -1.30745023e-02\n",
            "  3.54719572e-02 -6.37523737e-03  3.18980031e-03  7.36066326e-02\n",
            " -4.32388447e-02  8.04567412e-02 -1.96463373e-02  2.94190850e-02\n",
            " -2.02065781e-02  7.74565116e-02  5.67905903e-02  6.81926385e-02\n",
            "  6.56623244e-02  4.03536409e-02  1.37813449e-01 -5.01028560e-02\n",
            "  5.63593917e-02  3.58627066e-02  5.43618836e-02  1.26838788e-01\n",
            "  2.54688784e-02 -3.14518772e-02  6.08480461e-02 -6.91290572e-02\n",
            " -2.39876565e-02  8.56551081e-02 -5.65018679e-04  9.61624235e-02\n",
            "  1.82032976e-02  9.73211527e-02  3.04993652e-02  4.21903506e-02\n",
            "  4.01692949e-02  5.49317710e-02  7.93436393e-02  5.31157106e-02\n",
            "  2.44483780e-02 -2.77919834e-03  2.80322209e-02  7.29361400e-02\n",
            "  7.09114522e-02 -7.27251917e-02 -4.36429307e-03 -9.14008841e-02\n",
            " -8.53757337e-02 -9.21345502e-03 -1.48815170e-01  3.19132283e-02\n",
            " -1.91630404e-02  1.31859779e-01  3.33835334e-02  8.11075196e-02\n",
            " -5.03091235e-03 -9.77426320e-02 -5.85283041e-02  2.03714077e-03\n",
            "  3.18308026e-02 -1.89927705e-02  4.05319314e-03 -6.61906004e-02\n",
            "  2.25960501e-02  2.38004886e-02  1.22062638e-01 -2.04587989e-02]\n",
            "shape (100, 64)\n",
            "layer name dense_1:\n",
            "[[-0.30741018  0.02765781 -0.25297692 ...  0.17699088 -0.17139418\n",
            "   0.14580242]\n",
            " [ 0.19864012 -0.22269303  0.25491402 ... -0.24771778 -0.11741029\n",
            "  -0.1875924 ]\n",
            " [ 0.18689589  0.17201006 -0.03893869 ... -0.14960663  0.22221754\n",
            "   0.09440251]\n",
            " ...\n",
            " [-0.07529189  0.0088026   0.1821253  ...  0.11792556 -0.1265491\n",
            "   0.05769533]\n",
            " [-0.11530544 -0.13840444  0.06761272 ...  0.13701703 -0.17178975\n",
            "   0.2257906 ]\n",
            " [-0.18081631  0.03004967 -0.09495255 ... -0.33964416 -0.13708977\n",
            "  -0.31160212]]\n",
            "shape (64,)\n",
            "layer name dense_1:\n",
            "[ 0.12033528 -0.01248397  0.06739991  0.09392674 -0.00374386 -0.03863288\n",
            "  0.05725696 -0.03253106  0.0161493   0.01043836  0.00340112  0.09943813\n",
            "  0.06601796  0.01786088 -0.04569254  0.00572717 -0.03253828 -0.00022436\n",
            "  0.02785186  0.01790894 -0.06275135  0.1545994  -0.00470238 -0.0138781\n",
            "  0.06386388  0.08632863  0.05144996  0.11372136  0.05462242  0.00198525\n",
            "  0.08952178  0.08160649 -0.01088176 -0.00779728 -0.07855274  0.12198351\n",
            " -0.01918814  0.06848101 -0.01157792  0.02284284  0.08504     0.04707829\n",
            "  0.13555546  0.11271736 -0.07512692  0.01543068 -0.02863868  0.00894934\n",
            "  0.06331424  0.1288476   0.04231546 -0.00101418 -0.07541906  0.0834014\n",
            "  0.03805724 -0.03980906  0.00638623  0.13201901  0.08143558 -0.05021331\n",
            "  0.04339726  0.01552066  0.02989041  0.06663655]\n",
            "shape (64, 32)\n",
            "layer name dense_2:\n",
            "[[ 0.10886399 -0.05194018 -0.08019269 ...  0.3315105  -0.32225335\n",
            "  -0.0058977 ]\n",
            " [ 0.06038179 -0.02798659 -0.06205152 ... -0.09658132  0.09656961\n",
            "   0.21349245]\n",
            " [ 0.21460356 -0.29623726 -0.14440845 ...  0.03330779  0.05364878\n",
            "  -0.10741176]\n",
            " ...\n",
            " [ 0.01155215  0.02820359  0.40083298 ... -0.2636077   0.19334936\n",
            "  -0.00424013]\n",
            " [ 0.0829826   0.3605767  -0.18081886 ... -0.04976631 -0.17369334\n",
            "   0.17817062]\n",
            " [ 0.07782532  0.00435786  0.41812226 ...  0.3028522  -0.08381341\n",
            "   0.05765082]]\n",
            "shape (32,)\n",
            "layer name dense_2:\n",
            "[ 0.02316116  0.03615077  0.07136425  0.02543507 -0.01565606  0.04949168\n",
            "  0.13117003  0.06849132  0.02649906  0.07230519  0.02248082 -0.01540856\n",
            "  0.05723891  0.09803424  0.11846565  0.12618108  0.03719916  0.01778621\n",
            " -0.03258913  0.01938018  0.05866611  0.01945367  0.03373745 -0.02033184\n",
            "  0.01419699  0.0063397   0.03840041 -0.04815418  0.04143479  0.06405384\n",
            " -0.03087052  0.04859126]\n",
            "shape (32, 10)\n",
            "layer name dense_3:\n",
            "[[-0.24055864  0.33912697  0.43734157  0.18664318  0.39813864 -0.01791094\n",
            "   0.06285076 -0.4349549  -0.33130994 -0.3337928 ]\n",
            " [ 0.43782547 -0.24527584 -0.41054204 -0.05876056  0.14252703  0.15962468\n",
            "   0.33618593 -0.4448829  -0.5085459   0.37021875]\n",
            " [-0.15237789  0.2530298  -0.05502073 -0.5778236   0.2379326  -0.01732869\n",
            "   0.08964729  0.0332164   0.22141154  0.33302364]\n",
            " [-0.5062579  -0.19348244 -0.511777    0.5471409  -0.02282697 -0.28206444\n",
            "  -0.27688587 -0.23544689 -0.36336374  0.37243122]\n",
            " [-0.25429288  0.31707537 -0.22741388 -0.07657855  0.12732637 -0.35099378\n",
            "  -0.5086227  -0.08317269 -0.08673698 -0.4291866 ]\n",
            " [-0.00920812 -0.4724387  -0.04224933 -0.3659811   0.10060993  0.00088044\n",
            "  -0.02275782  0.43820268 -0.22616933  0.4523388 ]\n",
            " [ 0.08976917 -0.4071899  -0.26251125  0.3290881  -0.08498921  0.18860358\n",
            "   0.23082878 -0.1433881   0.38461643  0.0899123 ]\n",
            " [-0.10409309  0.16101107  0.3598433  -0.25275275 -0.48591223 -0.1089379\n",
            "  -0.4343151   0.19148427  0.34321654  0.17438711]\n",
            " [-0.57017106  0.27398998  0.1855073  -0.47077796 -0.0508417   0.35474935\n",
            "   0.42446804  0.27837428  0.11428358  0.3070915 ]\n",
            " [-0.17223258 -0.5291468  -0.23315562 -0.18000637 -0.33204868  0.41980705\n",
            "  -0.44890168 -0.42177388 -0.04186402  0.11216676]\n",
            " [-0.0639303   0.40295696 -0.1012795  -0.09604285 -0.3495055  -0.01155381\n",
            "  -0.39110672 -0.14386594  0.26573017 -0.22826758]\n",
            " [ 0.06465813  0.21311039  0.36549    -0.0032388  -0.13443607  0.10800716\n",
            "  -0.3523759   0.12066736 -0.04154106 -0.36273283]\n",
            " [-0.5658932   0.240907    0.34564173  0.01048124 -0.5172788   0.35298935\n",
            "  -0.09080155 -0.3084737  -0.0684915  -0.3080596 ]\n",
            " [-0.4616365  -0.1586449  -0.14612646  0.11349089  0.20678681 -0.22987467\n",
            "   0.28795683  0.24464144  0.27845302 -0.14936978]\n",
            " [ 0.11586269 -0.44095066 -0.23831187  0.11934842  0.3772784  -0.28881848\n",
            "  -0.10691798 -0.3251693   0.36193952 -0.11995636]\n",
            " [ 0.01556159 -0.04671192  0.2579498   0.00454943  0.26643735 -0.4468742\n",
            "  -0.4984855   0.10291374  0.26556262  0.42950484]\n",
            " [ 0.03491653  0.27223647 -0.3829064  -0.4288497   0.17952903 -0.11912247\n",
            "   0.03934819 -0.58391917 -0.1641558   0.43467563]\n",
            " [-0.06887665 -0.00624491  0.13969806 -0.27705413  0.2615063  -0.32709953\n",
            "  -0.30012688  0.19084208  0.04436606 -0.45567223]\n",
            " [ 0.07533554  0.07076498  0.4341804   0.32348603 -0.5225694  -0.09422775\n",
            "   0.16481818  0.25302148 -0.35785863 -0.0247569 ]\n",
            " [ 0.35093525  0.2760243   0.24397115  0.22547446 -0.47331914  0.22902296\n",
            "   0.23259987 -0.2301195   0.25960028 -0.14995658]\n",
            " [ 0.48326266 -0.07868595  0.44318518 -0.36680403  0.21621086 -0.17441034\n",
            "   0.41619304  0.06028483  0.12432073 -0.4585566 ]\n",
            " [-0.16272464 -0.02010947 -0.3097384  -0.07446168  0.03023895  0.28087837\n",
            "   0.43724933  0.01577451  0.09136505 -0.53270686]\n",
            " [-0.38656345  0.18966739  0.3816472  -0.49250734  0.15151098 -0.2420727\n",
            "  -0.06625777  0.40741286 -0.40706038  0.33131889]\n",
            " [-0.37232223  0.2624095  -0.07690074  0.28425506  0.0097605  -0.22443184\n",
            "  -0.28591597 -0.12150702 -0.08766926 -0.24261038]\n",
            " [ 0.1166381   0.43163836 -0.16103788 -0.14185992  0.48634285  0.1283279\n",
            "   0.12031692  0.49198544 -0.01681075 -0.5096088 ]\n",
            " [-0.49029416  0.13458957 -0.38873878 -0.11189239  0.358192    0.07491479\n",
            "  -0.3920883   0.17476122 -0.3054788  -0.29214162]\n",
            " [ 0.18252477  0.11534841 -0.5604541  -0.0737175  -0.02347806  0.32463196\n",
            "   0.2718736  -0.0801944  -0.11572611  0.10482462]\n",
            " [ 0.2697683   0.2744799  -0.02214077 -0.3760388   0.33570537 -0.6438107\n",
            "  -0.0865775  -0.00341657 -0.52236146 -0.17988704]\n",
            " [-0.14991789 -0.20203424 -0.25279877  0.06217977 -0.45448333  0.2622847\n",
            "  -0.7829343   0.43904135 -0.3348365  -0.04470929]\n",
            " [-0.18481694 -0.04570904  0.51114434 -0.04785465  0.1916932  -0.18227868\n",
            "  -0.49994224 -0.22801928 -0.12536797 -0.04611979]\n",
            " [ 0.23238707  0.12396238 -0.32420343  0.47195503 -0.4693436  -0.36402106\n",
            "  -0.32334897  0.12789296 -0.0972265  -0.13479769]\n",
            " [ 0.34016544 -0.1914664   0.06269286  0.07966529 -0.23837616  0.13700308\n",
            "   0.27187788  0.3726708   0.19413786  0.0597886 ]]\n",
            "shape (10,)\n",
            "layer name dense_3:\n",
            "[-0.10167099 -0.12965678  0.04397549  0.06174046  0.02212292  0.01214863\n",
            " -0.05081232 -0.0255951   0.099213    0.00201806]\n"
          ]
        }
      ],
      "source": [
        "# initial weights & bias\n",
        "for layer in loaded_model.layers:\n",
        "    if hasattr(layer, 'weights'):\n",
        "      weights, biases = layer.get_weights()\n",
        "      print('shape', weights.shape)\n",
        "      print(f'layer name {layer.name}:')\n",
        "      print(weights)\n",
        "      print('shape', biases.shape)\n",
        "      print(f'layer name {layer.name}:')\n",
        "      print(biases)"
      ]
    },
    {
      "cell_type": "code",
      "execution_count": 56,
      "metadata": {
        "id": "EV0oJ8EPvuaA"
      },
      "outputs": [
        {
          "name": "stdout",
          "output_type": "stream",
          "text": [
            "\u001b[1m1/1\u001b[0m \u001b[32m━━━━━━━━━━━━━━━━━━━━\u001b[0m\u001b[37m\u001b[0m \u001b[1m0s\u001b[0m 93ms/step\n",
            "[[2.88844042e-08 2.00586996e-07 3.12669204e-06 1.94529002e-06\n",
            "  9.61710637e-13 1.34225315e-08 4.91751496e-13 9.99994636e-01\n",
            "  4.31331060e-09 1.40079426e-09]]\n",
            "Predicted digit is  7\n"
          ]
        }
      ],
      "source": [
        "import numpy as np\n",
        "from PIL import Image\n",
        "\n",
        "new_image = Image.open('sample_image.png')\n",
        "\n",
        "#Convert the image to grey scale\n",
        "new_image = new_image.convert('L').resize((28, 28))\n",
        "\n",
        "new_digit = np.array(new_image) / 255.0\n",
        "\n",
        "new_digit = new_digit.reshape((1, 784))\n",
        "\n",
        "predictions = loaded_model.predict(new_digit)\n",
        "\n",
        "predicted_digit = np.argmax(predictions)\n",
        "\n",
        "print(predictions)\n",
        "print(\"Predicted digit is \", predicted_digit)"
      ]
    },
    {
      "cell_type": "code",
      "execution_count": null,
      "metadata": {},
      "outputs": [],
      "source": []
    }
  ],
  "metadata": {
    "colab": {
      "provenance": []
    },
    "kernelspec": {
      "display_name": "Python 3",
      "name": "python3"
    },
    "language_info": {
      "codemirror_mode": {
        "name": "ipython",
        "version": 3
      },
      "file_extension": ".py",
      "mimetype": "text/x-python",
      "name": "python",
      "nbconvert_exporter": "python",
      "pygments_lexer": "ipython3",
      "version": "3.11.5"
    }
  },
  "nbformat": 4,
  "nbformat_minor": 0
}
