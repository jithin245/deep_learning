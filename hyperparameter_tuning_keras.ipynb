{
  "cells": [
    {
      "cell_type": "code",
      "execution_count": 1,
      "metadata": {
        "id": "oSZCZ01fg4k9"
      },
      "outputs": [],
      "source": [
        "# load the dataset\n",
        "from tensorflow.keras.datasets import mnist"
      ]
    },
    {
      "cell_type": "code",
      "execution_count": 2,
      "metadata": {
        "colab": {
          "base_uri": "https://localhost:8080/"
        },
        "id": "nf_pLng2g4k_",
        "outputId": "79300fc0-6890-4f03-8a74-a9d7ae8a811c"
      },
      "outputs": [
        {
          "output_type": "stream",
          "name": "stdout",
          "text": [
            "Downloading data from https://storage.googleapis.com/tensorflow/tf-keras-datasets/mnist.npz\n",
            "11490434/11490434 [==============================] - 2s 0us/step\n"
          ]
        }
      ],
      "source": [
        "(X_train, y_train), (X_test, y_test) = mnist.load_data()\n",
        "X_train = X_train/255.0\n",
        "X_test = X_test/255.0"
      ]
    },
    {
      "cell_type": "code",
      "source": [
        "!pip install keras_tuner"
      ],
      "metadata": {
        "colab": {
          "base_uri": "https://localhost:8080/"
        },
        "id": "YIGj9ZFShLId",
        "outputId": "9834450d-b08c-4ff5-d2fa-df71e5aabd6c"
      },
      "execution_count": 3,
      "outputs": [
        {
          "output_type": "stream",
          "name": "stdout",
          "text": [
            "Collecting keras_tuner\n",
            "  Downloading keras_tuner-1.4.7-py3-none-any.whl (129 kB)\n",
            "\u001b[?25l     \u001b[90m━━━━━━━━━━━━━━━━━━━━━━━━━━━━━━━━━━━━━━━━\u001b[0m \u001b[32m0.0/129.1 kB\u001b[0m \u001b[31m?\u001b[0m eta \u001b[36m-:--:--\u001b[0m\r\u001b[2K     \u001b[91m━━━━━━━━━━━━\u001b[0m\u001b[91m╸\u001b[0m\u001b[90m━━━━━━━━━━━━━━━━━━━━━━━━━━━\u001b[0m \u001b[32m41.0/129.1 kB\u001b[0m \u001b[31m1.2 MB/s\u001b[0m eta \u001b[36m0:00:01\u001b[0m\r\u001b[2K     \u001b[90m━━━━━━━━━━━━━━━━━━━━━━━━━━━━━━━━━━━━━━━━\u001b[0m \u001b[32m129.1/129.1 kB\u001b[0m \u001b[31m1.9 MB/s\u001b[0m eta \u001b[36m0:00:00\u001b[0m\n",
            "\u001b[?25hRequirement already satisfied: keras in /usr/local/lib/python3.10/dist-packages (from keras_tuner) (2.15.0)\n",
            "Requirement already satisfied: packaging in /usr/local/lib/python3.10/dist-packages (from keras_tuner) (24.0)\n",
            "Requirement already satisfied: requests in /usr/local/lib/python3.10/dist-packages (from keras_tuner) (2.31.0)\n",
            "Collecting kt-legacy (from keras_tuner)\n",
            "  Downloading kt_legacy-1.0.5-py3-none-any.whl (9.6 kB)\n",
            "Requirement already satisfied: charset-normalizer<4,>=2 in /usr/local/lib/python3.10/dist-packages (from requests->keras_tuner) (3.3.2)\n",
            "Requirement already satisfied: idna<4,>=2.5 in /usr/local/lib/python3.10/dist-packages (from requests->keras_tuner) (3.7)\n",
            "Requirement already satisfied: urllib3<3,>=1.21.1 in /usr/local/lib/python3.10/dist-packages (from requests->keras_tuner) (2.0.7)\n",
            "Requirement already satisfied: certifi>=2017.4.17 in /usr/local/lib/python3.10/dist-packages (from requests->keras_tuner) (2024.2.2)\n",
            "Installing collected packages: kt-legacy, keras_tuner\n",
            "Successfully installed keras_tuner-1.4.7 kt-legacy-1.0.5\n"
          ]
        }
      ]
    },
    {
      "cell_type": "code",
      "execution_count": 4,
      "metadata": {
        "colab": {
          "base_uri": "https://localhost:8080/"
        },
        "id": "vs-FPSF1g4lA",
        "outputId": "bf1b2256-1761-4b85-cf9b-0e373e7a4039"
      },
      "outputs": [
        {
          "output_type": "stream",
          "name": "stdout",
          "text": [
            "library imported\n"
          ]
        }
      ],
      "source": [
        "from tensorflow.keras.models import Sequential\n",
        "from tensorflow.keras.layers import Flatten, Dropout, Dense\n",
        "from tensorflow.keras.optimizers import Adam\n",
        "import keras_tuner\n",
        "from keras_tuner.tuners import RandomSearch\n",
        "print('library imported')"
      ]
    },
    {
      "cell_type": "code",
      "execution_count": 5,
      "metadata": {
        "id": "-nekmLKRg4lA"
      },
      "outputs": [],
      "source": [
        "def build_model(hp):\n",
        "    model = Sequential()\n",
        "    model.add(Flatten(input_shape=(28, 28)))\n",
        "    for i in range(hp.Int('num_layers', 2, 20)): # search for layers between 2 to 20\n",
        "        model.add(Dense(units=hp.Int('units_'+str(i), min_value=32, max_value=512, step=32), activation='relu'))\n",
        "        # search for number of units\n",
        "        model.add(Dropout(hp.Float('rate'+str(i), min_value=0.0, max_value=0.5, step=0.1)))\n",
        "    model.add(Dense(10, activation='softmax'))\n",
        "    model.compile(optimizer=Adam(hp.Choice('learning_rate', [1e-2, 1e-3, 1e-4])), loss='sparse_categorical_crossentropy', metrics=['accuracy'])\n",
        "    return model"
      ]
    },
    {
      "cell_type": "code",
      "execution_count": 6,
      "metadata": {
        "id": "0ARrWQ01g4lB"
      },
      "outputs": [],
      "source": [
        "# tuner\n",
        "tuner = RandomSearch(build_model, objective='val_accuracy',\n",
        "                     max_trials=3, # tuner will explore 3 diff set of hyperparameters\n",
        "                     max_retries_per_trial=2,\n",
        "                     directory='my_dir', project_name='Hyper_tuner1')"
      ]
    },
    {
      "cell_type": "code",
      "execution_count": 7,
      "metadata": {
        "colab": {
          "base_uri": "https://localhost:8080/"
        },
        "id": "Fi8ozL-Gg4lB",
        "outputId": "9201aaad-b4ce-4760-df77-193572ef190c"
      },
      "outputs": [
        {
          "output_type": "stream",
          "name": "stdout",
          "text": [
            "Trial 3 Complete [00h 01m 55s]\n",
            "val_accuracy: 0.11349999904632568\n",
            "\n",
            "Best val_accuracy So Far: 0.9430000185966492\n",
            "Total elapsed time: 00h 05m 09s\n"
          ]
        }
      ],
      "source": [
        "tuner.search(X_train, y_train, epochs=5, validation_data=(X_test, y_test))"
      ]
    },
    {
      "cell_type": "code",
      "source": [
        "tuner.results_summary()"
      ],
      "metadata": {
        "colab": {
          "base_uri": "https://localhost:8080/"
        },
        "id": "bc75JKZthzqm",
        "outputId": "757f2f0c-2329-4063-fb17-1aa8e8e3173f"
      },
      "execution_count": 8,
      "outputs": [
        {
          "output_type": "stream",
          "name": "stdout",
          "text": [
            "Results summary\n",
            "Results in my_dir/Hyper_tuner1\n",
            "Showing 10 best trials\n",
            "Objective(name=\"val_accuracy\", direction=\"max\")\n",
            "\n",
            "Trial 0 summary\n",
            "Hyperparameters:\n",
            "num_layers: 18\n",
            "units_0: 416\n",
            "rate0: 0.4\n",
            "units_1: 32\n",
            "rate1: 0.2\n",
            "learning_rate: 0.0001\n",
            "units_2: 32\n",
            "rate2: 0.0\n",
            "units_3: 32\n",
            "rate3: 0.0\n",
            "units_4: 32\n",
            "rate4: 0.0\n",
            "units_5: 32\n",
            "rate5: 0.0\n",
            "units_6: 32\n",
            "rate6: 0.0\n",
            "units_7: 32\n",
            "rate7: 0.0\n",
            "units_8: 32\n",
            "rate8: 0.0\n",
            "units_9: 32\n",
            "rate9: 0.0\n",
            "units_10: 32\n",
            "rate10: 0.0\n",
            "units_11: 32\n",
            "rate11: 0.0\n",
            "units_12: 32\n",
            "rate12: 0.0\n",
            "units_13: 32\n",
            "rate13: 0.0\n",
            "units_14: 32\n",
            "rate14: 0.0\n",
            "units_15: 32\n",
            "rate15: 0.0\n",
            "units_16: 32\n",
            "rate16: 0.0\n",
            "units_17: 32\n",
            "rate17: 0.0\n",
            "Score: 0.9430000185966492\n",
            "\n",
            "Trial 1 summary\n",
            "Hyperparameters:\n",
            "num_layers: 11\n",
            "units_0: 192\n",
            "rate0: 0.30000000000000004\n",
            "units_1: 512\n",
            "rate1: 0.0\n",
            "learning_rate: 0.01\n",
            "units_2: 224\n",
            "rate2: 0.2\n",
            "units_3: 448\n",
            "rate3: 0.30000000000000004\n",
            "units_4: 192\n",
            "rate4: 0.0\n",
            "units_5: 160\n",
            "rate5: 0.4\n",
            "units_6: 512\n",
            "rate6: 0.30000000000000004\n",
            "units_7: 64\n",
            "rate7: 0.0\n",
            "units_8: 32\n",
            "rate8: 0.1\n",
            "units_9: 160\n",
            "rate9: 0.0\n",
            "units_10: 448\n",
            "rate10: 0.2\n",
            "units_11: 512\n",
            "rate11: 0.30000000000000004\n",
            "units_12: 416\n",
            "rate12: 0.2\n",
            "units_13: 448\n",
            "rate13: 0.2\n",
            "units_14: 512\n",
            "rate14: 0.0\n",
            "units_15: 224\n",
            "rate15: 0.2\n",
            "units_16: 160\n",
            "rate16: 0.1\n",
            "units_17: 64\n",
            "rate17: 0.0\n",
            "Score: 0.11349999904632568\n",
            "\n",
            "Trial 2 summary\n",
            "Hyperparameters:\n",
            "num_layers: 17\n",
            "units_0: 128\n",
            "rate0: 0.2\n",
            "units_1: 320\n",
            "rate1: 0.30000000000000004\n",
            "learning_rate: 0.01\n",
            "units_2: 320\n",
            "rate2: 0.0\n",
            "units_3: 32\n",
            "rate3: 0.30000000000000004\n",
            "units_4: 384\n",
            "rate4: 0.1\n",
            "units_5: 384\n",
            "rate5: 0.0\n",
            "units_6: 224\n",
            "rate6: 0.1\n",
            "units_7: 352\n",
            "rate7: 0.4\n",
            "units_8: 320\n",
            "rate8: 0.1\n",
            "units_9: 128\n",
            "rate9: 0.4\n",
            "units_10: 320\n",
            "rate10: 0.4\n",
            "units_11: 448\n",
            "rate11: 0.2\n",
            "units_12: 192\n",
            "rate12: 0.1\n",
            "units_13: 320\n",
            "rate13: 0.2\n",
            "units_14: 192\n",
            "rate14: 0.2\n",
            "units_15: 352\n",
            "rate15: 0.0\n",
            "units_16: 128\n",
            "rate16: 0.1\n",
            "units_17: 416\n",
            "rate17: 0.0\n",
            "Score: 0.11349999904632568\n"
          ]
        }
      ]
    },
    {
      "cell_type": "code",
      "source": [
        "best_hps = tuner.get_best_hyperparameters()[0]\n",
        "model = tuner.hypermodel.build(best_hps)\n",
        "model.summary()"
      ],
      "metadata": {
        "colab": {
          "base_uri": "https://localhost:8080/"
        },
        "id": "b0Vs-7bnjGLt",
        "outputId": "01447750-bc9e-46e6-dc2b-57132a68746d"
      },
      "execution_count": 9,
      "outputs": [
        {
          "output_type": "stream",
          "name": "stdout",
          "text": [
            "Model: \"sequential_1\"\n",
            "_________________________________________________________________\n",
            " Layer (type)                Output Shape              Param #   \n",
            "=================================================================\n",
            " flatten_1 (Flatten)         (None, 784)               0         \n",
            "                                                                 \n",
            " dense_18 (Dense)            (None, 416)               326560    \n",
            "                                                                 \n",
            " dropout_17 (Dropout)        (None, 416)               0         \n",
            "                                                                 \n",
            " dense_19 (Dense)            (None, 32)                13344     \n",
            "                                                                 \n",
            " dropout_18 (Dropout)        (None, 32)                0         \n",
            "                                                                 \n",
            " dense_20 (Dense)            (None, 32)                1056      \n",
            "                                                                 \n",
            " dropout_19 (Dropout)        (None, 32)                0         \n",
            "                                                                 \n",
            " dense_21 (Dense)            (None, 32)                1056      \n",
            "                                                                 \n",
            " dropout_20 (Dropout)        (None, 32)                0         \n",
            "                                                                 \n",
            " dense_22 (Dense)            (None, 32)                1056      \n",
            "                                                                 \n",
            " dropout_21 (Dropout)        (None, 32)                0         \n",
            "                                                                 \n",
            " dense_23 (Dense)            (None, 32)                1056      \n",
            "                                                                 \n",
            " dropout_22 (Dropout)        (None, 32)                0         \n",
            "                                                                 \n",
            " dense_24 (Dense)            (None, 32)                1056      \n",
            "                                                                 \n",
            " dropout_23 (Dropout)        (None, 32)                0         \n",
            "                                                                 \n",
            " dense_25 (Dense)            (None, 32)                1056      \n",
            "                                                                 \n",
            " dropout_24 (Dropout)        (None, 32)                0         \n",
            "                                                                 \n",
            " dense_26 (Dense)            (None, 32)                1056      \n",
            "                                                                 \n",
            " dropout_25 (Dropout)        (None, 32)                0         \n",
            "                                                                 \n",
            " dense_27 (Dense)            (None, 32)                1056      \n",
            "                                                                 \n",
            " dropout_26 (Dropout)        (None, 32)                0         \n",
            "                                                                 \n",
            " dense_28 (Dense)            (None, 32)                1056      \n",
            "                                                                 \n",
            " dropout_27 (Dropout)        (None, 32)                0         \n",
            "                                                                 \n",
            " dense_29 (Dense)            (None, 32)                1056      \n",
            "                                                                 \n",
            " dropout_28 (Dropout)        (None, 32)                0         \n",
            "                                                                 \n",
            " dense_30 (Dense)            (None, 32)                1056      \n",
            "                                                                 \n",
            " dropout_29 (Dropout)        (None, 32)                0         \n",
            "                                                                 \n",
            " dense_31 (Dense)            (None, 32)                1056      \n",
            "                                                                 \n",
            " dropout_30 (Dropout)        (None, 32)                0         \n",
            "                                                                 \n",
            " dense_32 (Dense)            (None, 32)                1056      \n",
            "                                                                 \n",
            " dropout_31 (Dropout)        (None, 32)                0         \n",
            "                                                                 \n",
            " dense_33 (Dense)            (None, 32)                1056      \n",
            "                                                                 \n",
            " dropout_32 (Dropout)        (None, 32)                0         \n",
            "                                                                 \n",
            " dense_34 (Dense)            (None, 32)                1056      \n",
            "                                                                 \n",
            " dropout_33 (Dropout)        (None, 32)                0         \n",
            "                                                                 \n",
            " dense_35 (Dense)            (None, 32)                1056      \n",
            "                                                                 \n",
            " dropout_34 (Dropout)        (None, 32)                0         \n",
            "                                                                 \n",
            " dense_36 (Dense)            (None, 10)                330       \n",
            "                                                                 \n",
            "=================================================================\n",
            "Total params: 357130 (1.36 MB)\n",
            "Trainable params: 357130 (1.36 MB)\n",
            "Non-trainable params: 0 (0.00 Byte)\n",
            "_________________________________________________________________\n"
          ]
        }
      ]
    },
    {
      "cell_type": "code",
      "source": [
        "model.fit(X_train, y_train, epochs=5, validation_data=(X_test, y_test))"
      ],
      "metadata": {
        "colab": {
          "base_uri": "https://localhost:8080/"
        },
        "id": "nm1f6bs5jsmD",
        "outputId": "8b3b089e-0d0e-4839-a50d-60aa0e654a47"
      },
      "execution_count": 10,
      "outputs": [
        {
          "output_type": "stream",
          "name": "stdout",
          "text": [
            "Epoch 1/5\n",
            "1875/1875 [==============================] - 22s 9ms/step - loss: 1.4291 - accuracy: 0.4564 - val_loss: 0.5636 - val_accuracy: 0.8570\n",
            "Epoch 2/5\n",
            "1875/1875 [==============================] - 17s 9ms/step - loss: 0.5538 - accuracy: 0.8361 - val_loss: 0.3353 - val_accuracy: 0.9157\n",
            "Epoch 3/5\n",
            "1875/1875 [==============================] - 16s 9ms/step - loss: 0.3941 - accuracy: 0.8915 - val_loss: 0.2606 - val_accuracy: 0.9381\n",
            "Epoch 4/5\n",
            "1875/1875 [==============================] - 21s 11ms/step - loss: 0.3237 - accuracy: 0.9130 - val_loss: 0.2233 - val_accuracy: 0.9459\n",
            "Epoch 5/5\n",
            "1875/1875 [==============================] - 19s 10ms/step - loss: 0.2771 - accuracy: 0.9249 - val_loss: 0.2005 - val_accuracy: 0.9508\n"
          ]
        },
        {
          "output_type": "execute_result",
          "data": {
            "text/plain": [
              "<keras.src.callbacks.History at 0x7f611d400c70>"
            ]
          },
          "metadata": {},
          "execution_count": 10
        }
      ]
    },
    {
      "cell_type": "code",
      "source": [],
      "metadata": {
        "id": "BKF49fyulnr7"
      },
      "execution_count": null,
      "outputs": []
    }
  ],
  "metadata": {
    "kernelspec": {
      "display_name": "Python 3",
      "name": "python3"
    },
    "language_info": {
      "codemirror_mode": {
        "name": "ipython",
        "version": 3
      },
      "file_extension": ".py",
      "mimetype": "text/x-python",
      "name": "python",
      "nbconvert_exporter": "python",
      "pygments_lexer": "ipython3",
      "version": "3.11.5"
    },
    "colab": {
      "provenance": [],
      "gpuType": "T4"
    },
    "accelerator": "GPU"
  },
  "nbformat": 4,
  "nbformat_minor": 0
}