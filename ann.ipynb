{
 "cells": [
  {
   "cell_type": "code",
   "execution_count": 1,
   "metadata": {},
   "outputs": [],
   "source": [
    "import numpy as np\n",
    "from numpy import exp, array, random, dot"
   ]
  },
  {
   "cell_type": "code",
   "execution_count": 6,
   "metadata": {},
   "outputs": [],
   "source": [
    "class NeuralNetwork():\n",
    "    def __init__(self):\n",
    "        random.seed(2)\n",
    "        self.weights = 2 * random.random((3,1))-1\n",
    "\n",
    "    def sigmoid(self, x):\n",
    "        return 1/(1 + exp(-x))\n",
    "    \n",
    "    def sigmoid_derivative(self, sigmoid_op):\n",
    "        return sigmoid_op*(1 - sigmoid_op)\n",
    "    \n",
    "    def netinputop(self, inputs):\n",
    "        return self.sigmoid(dot(inputs, self.weights))\n",
    "    \n",
    "    def train(self, training_inputs, training_outputs, number_iter):\n",
    "        for iteration in range(number_iter):\n",
    "            # pass the training data to neural network - forward pass\n",
    "            output = self.netinputop(training_inputs)\n",
    "            # calculate the error\n",
    "            error = training_outputs - output\n",
    "            # calculate the derivative  - backward pass\n",
    "            adjustment = dot(training_inputs.T, error*self.sigmoid_derivative(output))\n",
    "            # change the weights\n",
    "            self.weights = self.weights + adjustment"
   ]
  },
  {
   "cell_type": "code",
   "execution_count": 7,
   "metadata": {},
   "outputs": [
    {
     "name": "stdout",
     "output_type": "stream",
     "text": [
      "Random weights before training\n",
      "[[-0.1280102 ]\n",
      " [-0.94814754]\n",
      " [ 0.09932496]]\n",
      "Random weights after training\n",
      "[[ 9.67282529]\n",
      " [-0.20892653]\n",
      " [-4.62890667]]\n"
     ]
    }
   ],
   "source": [
    "neural_net = NeuralNetwork()\n",
    "\n",
    "print('Random weights before training')\n",
    "print(neural_net.weights)\n",
    "\n",
    "training_inputs = np.array([[0,0,1], [1,1,1], [1,0,1], [0,1,1]])\n",
    "training_outputs = np.array([[0,1,1,0]]).T\n",
    "\n",
    "neural_net.train(training_inputs, training_outputs, 10000)\n",
    "\n",
    "print('Random weights after training')\n",
    "print(neural_net.weights)"
   ]
  },
  {
   "cell_type": "code",
   "execution_count": 8,
   "metadata": {},
   "outputs": [
    {
     "name": "stdout",
     "output_type": "stream",
     "text": [
      "Test data\n",
      "Output is [0.99993703]\n"
     ]
    }
   ],
   "source": [
    "print('Test data')\n",
    "print('Output is', neural_net.netinputop(np.array([1,0,0])))"
   ]
  },
  {
   "cell_type": "code",
   "execution_count": null,
   "metadata": {},
   "outputs": [],
   "source": []
  }
 ],
 "metadata": {
  "kernelspec": {
   "display_name": "base",
   "language": "python",
   "name": "python3"
  },
  "language_info": {
   "codemirror_mode": {
    "name": "ipython",
    "version": 3
   },
   "file_extension": ".py",
   "mimetype": "text/x-python",
   "name": "python",
   "nbconvert_exporter": "python",
   "pygments_lexer": "ipython3",
   "version": "3.11.5"
  }
 },
 "nbformat": 4,
 "nbformat_minor": 2
}
